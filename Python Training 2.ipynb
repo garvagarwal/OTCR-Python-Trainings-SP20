{
 "cells": [
  {
   "cell_type": "markdown",
   "metadata": {
    "colab_type": "text",
    "id": "51NqjVAulV7G"
   },
   "source": [
    "# Welcome to Python Training 2"
   ]
  },
  {
   "cell_type": "markdown",
   "metadata": {
    "colab_type": "text",
    "id": "bD8Z7gZplkL5"
   },
   "source": [
    "The goal of this training is to familiarize you with control structures, functions and data structures."
   ]
  },
  {
   "cell_type": "markdown",
   "metadata": {
    "colab_type": "text",
    "id": "h3oaVAXE8hlq"
   },
   "source": [
    "# Common Data Structures"
   ]
  },
  {
   "cell_type": "markdown",
   "metadata": {
    "colab_type": "text",
    "id": "yMGWsv8O8kGy"
   },
   "source": [
    "## Lists"
   ]
  },
  {
   "cell_type": "markdown",
   "metadata": {
    "colab_type": "text",
    "id": "TwrZx4Ul-gCb"
   },
   "source": [
    "List can be seen as a collection: they can hold many variables. List resemble physical lists, they can contain a number of items.\n",
    "\n",
    "A list can have any number of elements. They are similar to arrays in other programming languages. Lists can hold all kinds of variables: integers (whole numbers), floats, characters, texts and many more. "
   ]
  },
  {
   "cell_type": "markdown",
   "metadata": {
    "colab_type": "text",
    "id": "129DDu1d-iT2"
   },
   "source": [
    "### Example"
   ]
  },
  {
   "cell_type": "markdown",
   "metadata": {
    "colab_type": "text",
    "id": "IiDil18p-kK0"
   },
   "source": [
    "**Empty list**\n",
    "\n",
    "Lets create an empty list. To define an empty list you should use brackets.\n",
    "Brackets is what tells Python that the object is a list."
   ]
  },
  {
   "cell_type": "code",
   "execution_count": null,
   "metadata": {
    "colab": {},
    "colab_type": "code",
    "id": "3pwma2qP-njE"
   },
   "outputs": [],
   "source": [
    "list = []"
   ]
  },
  {
   "cell_type": "markdown",
   "metadata": {
    "colab_type": "text",
    "id": "nDJxrbAH-oxg"
   },
   "source": [
    "Lists can hold both numbers and text. Regardless of contents, they are accessed in the same fashion.\n",
    "\n",
    "To access a list add the id between the brackets, such as list[0], list[1] and so on. "
   ]
  },
  {
   "cell_type": "markdown",
   "metadata": {
    "colab_type": "text",
    "id": "YbCs8_hx-qMT"
   },
   "source": [
    "**Define list**\n",
    "\n",
    "An empty list was defined above. Lists can contain all kinds of data.\n",
    "You can create numeric lists like this:"
   ]
  },
  {
   "cell_type": "code",
   "execution_count": null,
   "metadata": {
    "colab": {},
    "colab_type": "code",
    "id": "1gB57KFv-s6I"
   },
   "outputs": [],
   "source": [
    "ratings = [ 3,4,6,3,4,6,5 ]"
   ]
  },
  {
   "cell_type": "markdown",
   "metadata": {
    "colab_type": "text",
    "id": "qDNo7nM7-vgQ"
   },
   "source": [
    "Lists can contain strings or characters:"
   ]
  },
  {
   "cell_type": "code",
   "execution_count": null,
   "metadata": {
    "colab": {},
    "colab_type": "code",
    "id": "Y3mqCNj7-1rI"
   },
   "outputs": [],
   "source": [
    "ratings = [ 'A','A','B','A','C','A' ]"
   ]
  },
  {
   "cell_type": "markdown",
   "metadata": {
    "colab_type": "text",
    "id": "-KFW5H9a-24T"
   },
   "source": [
    "Strings are just lists of characters, so the above can be written as:"
   ]
  },
  {
   "cell_type": "code",
   "execution_count": null,
   "metadata": {
    "colab": {},
    "colab_type": "code",
    "id": "yJ3QLFsi-6lp"
   },
   "outputs": [],
   "source": [
    "ratings = 'AABACA'"
   ]
  },
  {
   "cell_type": "markdown",
   "metadata": {
    "colab_type": "text",
    "id": "qN6H44qV_CgO"
   },
   "source": [
    "To output simply print them:"
   ]
  },
  {
   "cell_type": "code",
   "execution_count": null,
   "metadata": {
    "colab": {
     "base_uri": "https://localhost:8080/",
     "height": 35
    },
    "colab_type": "code",
    "id": "Fp7bIKWz_EjD",
    "outputId": "1bb17c13-590b-4375-ad70-5873fe35fef8"
   },
   "outputs": [],
   "source": [
    "print(ratings)"
   ]
  },
  {
   "cell_type": "markdown",
   "metadata": {
    "colab_type": "text",
    "id": "wjx6x3Oo_K2c"
   },
   "source": [
    "**Access list items**"
   ]
  },
  {
   "cell_type": "markdown",
   "metadata": {
    "colab_type": "text",
    "id": "sYv2YyLu_Ng5"
   },
   "source": [
    "You can access a list item by using brackets and its index. Python starts counting at zero, that means the first element is zero.\n",
    "\n",
    "Why count from zero?\n",
    "\n",
    "Computer languages used to count from zero. At the time when programming languages were first created, it made sense to count from zero. These days it would just be strange to change that tradition.\n",
    "\n",
    "To get the first item, simply add the brackets and a zero after the list name."
   ]
  },
  {
   "cell_type": "code",
   "execution_count": null,
   "metadata": {
    "colab": {
     "base_uri": "https://localhost:8080/",
     "height": 35
    },
    "colab_type": "code",
    "id": "YWjuvRqh_OwX",
    "outputId": "7fee3d18-0599-4b9f-aad7-acabe4a9c522"
   },
   "outputs": [],
   "source": [
    "print(ratings[0])"
   ]
  },
  {
   "cell_type": "markdown",
   "metadata": {
    "colab_type": "text",
    "id": "QkgZWQvw_QGA"
   },
   "source": [
    "Every other element can be accessed by the incremental numbers, to print the second item you’d use (1), to print the thrid item you’d use (2)."
   ]
  },
  {
   "cell_type": "code",
   "execution_count": null,
   "metadata": {
    "colab": {
     "base_uri": "https://localhost:8080/",
     "height": 35
    },
    "colab_type": "code",
    "id": "rhLuhvz6_RGQ",
    "outputId": "e8bc1e9f-a183-43ed-8d9c-5456331e0926"
   },
   "outputs": [],
   "source": [
    "print(ratings[1])"
   ]
  },
  {
   "cell_type": "markdown",
   "metadata": {
    "colab_type": "text",
    "id": "I6LYcuY1_WMp"
   },
   "source": [
    "**List Example**"
   ]
  },
  {
   "cell_type": "code",
   "execution_count": null,
   "metadata": {
    "colab": {},
    "colab_type": "code",
    "id": "2Amwp0Vz_ZU7"
   },
   "outputs": [],
   "source": [
    "list = [ \"New York\", \"Los Angles\", \"Boston\", \"Denver\" ]\n",
    "\n",
    "print(list)     # prints all elements\n",
    "print(list[0])  # print first element\n",
    "\n",
    "list2 = [1,3,4,6,4,7,8,2,3]\n",
    "\n",
    "print(sum(list2))\n",
    "print(min(list2))\n",
    "print(max(list2))\n",
    "print(list2[0])\n",
    "print(list2[-1])"
   ]
  },
  {
   "cell_type": "markdown",
   "metadata": {
    "colab_type": "text",
    "id": "Iwg7cBcu8xEE"
   },
   "source": [
    "### Operations"
   ]
  },
  {
   "cell_type": "markdown",
   "metadata": {
    "colab_type": "text",
    "id": "mGIerswx_hra"
   },
   "source": [
    "Lists can be changed with several methods. What are these methods?\n",
    "\n",
    "To add items to a list, you can use the append() method. Call the method on the list, the parameter contains the item to add. Calling append(3) would add 3 to the list. To remove an item from the end of the list, you can use the pop() method.\n",
    "\n",
    "Lists can be accessed like traditional arrays, use the block quotes and index to get an item."
   ]
  },
  {
   "cell_type": "markdown",
   "metadata": {
    "colab_type": "text",
    "id": "jaY1PJVr_nDv"
   },
   "source": [
    "### Examples\n"
   ]
  },
  {
   "cell_type": "markdown",
   "metadata": {
    "colab_type": "text",
    "id": "VnxVAeDq_o9w"
   },
   "source": [
    "Lists can be modified using their methods.\n",
    "In the example below we create a list and use methods to change the list contents.\n",
    "\n",
    "**Append and pop**\n",
    "\n",
    "Run the program below and see the output:"
   ]
  },
  {
   "cell_type": "code",
   "execution_count": null,
   "metadata": {
    "colab": {},
    "colab_type": "code",
    "id": "asC8B1w3_vW4"
   },
   "outputs": [],
   "source": [
    "x = [3,4,5]\n",
    "x.append(6)\n",
    "print(x)\n",
    "x.append(7)\n",
    "print(x)\n",
    "x.pop()\n",
    "print(x)"
   ]
  },
  {
   "cell_type": "markdown",
   "metadata": {
    "colab_type": "text",
    "id": "ILQTuMPa_yHX"
   },
   "source": [
    "**Access items**\n",
    "\n",
    "To access items, simply use the block quotes:"
   ]
  },
  {
   "cell_type": "code",
   "execution_count": null,
   "metadata": {
    "colab": {},
    "colab_type": "code",
    "id": "KJQqHOMB_xbo"
   },
   "outputs": [],
   "source": [
    "x = [3,4,5]\n",
    "\n",
    "print(x[0])\n",
    "print(x[1])\n",
    "\n",
    "print(x[-1])"
   ]
  },
  {
   "cell_type": "markdown",
   "metadata": {
    "colab_type": "text",
    "id": "oWgZX7HN_12S"
   },
   "source": [
    "### Exercise"
   ]
  },
  {
   "cell_type": "markdown",
   "metadata": {
    "colab_type": "text",
    "id": "lKPIV9K8_4gX"
   },
   "source": [
    "Given the list y add the items 12, 8 and 4 to the back of the list.\n",
    "    \n"
   ]
  },
  {
   "cell_type": "code",
   "execution_count": null,
   "metadata": {
    "colab": {},
    "colab_type": "code",
    "id": "FYmSC_jAAEfA"
   },
   "outputs": [],
   "source": [
    "y = [6,4,2]\n",
    "\n",
    "# Write your solution here\n",
    "\n",
    "print(y)"
   ]
  },
  {
   "cell_type": "markdown",
   "metadata": {
    "colab_type": "text",
    "id": "31dcnSa8__Kw"
   },
   "source": [
    "Now change the 2nd item of the list to be `3`."
   ]
  },
  {
   "cell_type": "code",
   "execution_count": null,
   "metadata": {
    "colab": {},
    "colab_type": "code",
    "id": "C1yFpEauANhB"
   },
   "outputs": [],
   "source": [
    "# Write your solution here\n",
    "\n",
    "print(y)"
   ]
  },
  {
   "cell_type": "markdown",
   "metadata": {
    "colab_type": "text",
    "id": "2tR19C8bATqy"
   },
   "source": [
    "### Slices"
   ]
  },
  {
   "cell_type": "markdown",
   "metadata": {
    "colab_type": "text",
    "id": "ts9OlvmPAssb"
   },
   "source": [
    "A slice can be taken from a string or list, just as you can take a slice from a pizza.\n",
    "If you have a variable, be it a list or a string, that you want a part of, you don’t have to define it all over again.\n",
    "\n",
    "You can get a copy of the variable, which is the whole or a subset of the original variable. This concept is known as slicing.\n",
    "\n",
    "To take the first two slices, you’d use:"
   ]
  },
  {
   "cell_type": "code",
   "execution_count": null,
   "metadata": {
    "colab": {},
    "colab_type": "code",
    "id": "KO7JJzQ0Au5q"
   },
   "outputs": [],
   "source": [
    "slice = pizza[0:2]"
   ]
  },
  {
   "cell_type": "markdown",
   "metadata": {
    "colab_type": "text",
    "id": "doPMYb9hAwkf"
   },
   "source": [
    "The variable slice will now contain a copy of pizza, but only part of it. This is expressed using the brackets, the first number is the start and the number after the colon is the end.\n",
    "\n",
    "Why does it start with zero?\n",
    "\n",
    "Python starts numbering of string and list elements from zero, not one.\n",
    "\n",
    "In this case we took a slice from the list pizza, the output is stored into a new variable.\n",
    "If you want you can pass it directly to the print function. \n",
    "\n",
    "**List slice**\n",
    "\n",
    "Create a list of persons. We’ll use the slicing technique to get the first two persons in the list."
   ]
  },
  {
   "cell_type": "code",
   "execution_count": null,
   "metadata": {
    "colab": {},
    "colab_type": "code",
    "id": "a7You0iuA7G8"
   },
   "outputs": [],
   "source": [
    "persons = [ \"John\", \"Marissa\", \"Pete\", \"Dayton\" ]\n",
    "\n",
    "slice = persons[0:2]\n",
    "print(slice)"
   ]
  },
  {
   "cell_type": "markdown",
   "metadata": {
    "colab_type": "text",
    "id": "2TJArcueA-eQ"
   },
   "source": [
    "**String slicing**\n",
    "\n",
    "A string can be sliced too. This is done in exactly the same way, but the main differnece is that it won’t return a number of items, but simply a new string."
   ]
  },
  {
   "cell_type": "code",
   "execution_count": null,
   "metadata": {
    "colab": {},
    "colab_type": "code",
    "id": "XZ6tkEANBA2m"
   },
   "outputs": [],
   "source": [
    "destination = \"summer holiday at beach\"\n",
    "mySlice = destination[0:6]\n",
    "print(mySlice)"
   ]
  },
  {
   "cell_type": "markdown",
   "metadata": {
    "colab_type": "text",
    "id": "Jqw6Gl1nBEJQ"
   },
   "source": [
    "#### Exercise"
   ]
  },
  {
   "cell_type": "markdown",
   "metadata": {
    "colab_type": "text",
    "id": "xn-jREY_BFuk"
   },
   "source": [
    "Given the text “Hello World”, take the slice “World”"
   ]
  },
  {
   "cell_type": "code",
   "execution_count": null,
   "metadata": {
    "colab": {},
    "colab_type": "code",
    "id": "MUff3aTABOnA"
   },
   "outputs": [],
   "source": [
    "words = 'Hello World'\n",
    "\n",
    "word = #slice here\n",
    "\n",
    "print(word)"
   ]
  },
  {
   "cell_type": "markdown",
   "metadata": {
    "colab_type": "text",
    "id": "D3P1mr2VuXkx"
   },
   "source": [
    "# Control structures"
   ]
  },
  {
   "cell_type": "markdown",
   "metadata": {
    "colab_type": "text",
    "id": "omu7EwFguhvT"
   },
   "source": [
    "## If Statements\n"
   ]
  },
  {
   "cell_type": "markdown",
   "metadata": {
    "colab_type": "text",
    "id": "5ndvIM8JwUdj"
   },
   "source": [
    "A program sometimes may have to make choices. These choices can execute different code depending on certain condition. In Python the if statement is used for conditional execution.\n",
    "\n",
    "The if statement may be combined with certain operator such as equality (==), greater than (>=), smaller than (<=) and not equal (!=). Conditions may be combined using the keywords or and and."
   ]
  },
  {
   "cell_type": "markdown",
   "metadata": {
    "colab_type": "text",
    "id": "uumDj5F-waM8"
   },
   "source": [
    "### Example"
   ]
  },
  {
   "cell_type": "markdown",
   "metadata": {
    "colab_type": "text",
    "id": "jHh9Wr_fwbkl"
   },
   "source": [
    "In the example below we show the use of if-statements. Run the code below to see it in action."
   ]
  },
  {
   "cell_type": "code",
   "execution_count": null,
   "metadata": {
    "colab": {
     "base_uri": "https://localhost:8080/",
     "height": 90
    },
    "colab_type": "code",
    "id": "ekKgUrp5wfis",
    "outputId": "31a5f789-54b0-41c2-dcc1-5168c9e9f9e0"
   },
   "outputs": [],
   "source": [
    "gender = input(\"Gender? \")\n",
    "if gender == \"male\" or gender == \"Male\":\n",
    "    print(\"Your cat is male\")\n",
    "else:\n",
    "    print(\"Your cat is female\")\n",
    "\n",
    "age = int(input(\"Age of your cat? \"))\n",
    "if age < 5:\n",
    "    print(\"Your cat is young.\")\n",
    "else:\n",
    "    print(\"Your cat is an adult.\")"
   ]
  },
  {
   "cell_type": "markdown",
   "metadata": {
    "colab_type": "text",
    "id": "lm8Nl8EhxNGk"
   },
   "source": [
    "Here is a visual example of what is happening:\n",
    "![Flow chart](https://pythonbasics.org/wp-content/uploads/2016/02/if-statement-example-700x103.png)"
   ]
  },
  {
   "cell_type": "markdown",
   "metadata": {
    "colab_type": "text",
    "id": "0EYYaG7hxcBz"
   },
   "source": [
    "### Exercise"
   ]
  },
  {
   "cell_type": "markdown",
   "metadata": {
    "colab_type": "text",
    "id": "MwLvNx8RxhD-"
   },
   "source": [
    "Make a program that asks for a password and prints if it is right or wrong."
   ]
  },
  {
   "cell_type": "code",
   "execution_count": null,
   "metadata": {
    "colab": {},
    "colab_type": "code",
    "id": "3Be1s6p6yU-6"
   },
   "outputs": [],
   "source": [
    "secretPass = 'abcd'\n",
    "userInput = input('Enter a password')\n",
    "\n",
    "# Write if/else statement with prints here\n"
   ]
  },
  {
   "cell_type": "markdown",
   "metadata": {
    "colab_type": "text",
    "id": "YJPh0ns-uj9y"
   },
   "source": [
    "## For Loops"
   ]
  },
  {
   "cell_type": "markdown",
   "metadata": {
    "colab_type": "text",
    "id": "cUElqtFa2SkO"
   },
   "source": [
    "Programs sometimes need to repeat actions. To repeat actions we can use a for loop.\n",
    "A for loop is written inside the code. A for loop can have 1 or more instructions.\n",
    "\n",
    "A for loop will repeat a code block. Repeation is continued until the stop condition is met. If the stop condition is not met it will loop infintely.\n",
    "\n",
    "These instructions (loop) is repeated until a condition is met."
   ]
  },
  {
   "cell_type": "markdown",
   "metadata": {
    "colab_type": "text",
    "id": "KKvtaKM42TOS"
   },
   "source": [
    "### Example"
   ]
  },
  {
   "cell_type": "markdown",
   "metadata": {
    "colab_type": "text",
    "id": "NzYCS2jM2XeH"
   },
   "source": [
    "The syntax to use a loop is:\n",
    "\n",
    "```for [variable name to store into] in [list]:```\n",
    "\n",
    "Make sure to indent all the code inside the function. [variable name] is variable you are creating to hold the value of each element as you go through the list. [list] is any type of iterable data structure.\n"
   ]
  },
  {
   "cell_type": "code",
   "execution_count": null,
   "metadata": {
    "colab": {
     "base_uri": "https://localhost:8080/",
     "height": 72
    },
    "colab_type": "code",
    "id": "U4WizeOV2cK9",
    "outputId": "ca2f50c2-b0cc-499c-f292-4d6f18f63e11"
   },
   "outputs": [],
   "source": [
    "num = [1,2,3]\n",
    "\n",
    "for x in num:\n",
    "  print(x)"
   ]
  },
  {
   "cell_type": "markdown",
   "metadata": {
    "colab_type": "text",
    "id": "Zo72icqe3rlL"
   },
   "source": [
    "Here is a visual example:\n",
    "![Flow chart](https://pythonbasics.org/wp-content/uploads/2016/02/for-loop-700x234.png)"
   ]
  },
  {
   "cell_type": "markdown",
   "metadata": {
    "colab_type": "text",
    "id": "P1-UyIsI2Uve"
   },
   "source": [
    "### Exercises"
   ]
  },
  {
   "cell_type": "markdown",
   "metadata": {
    "colab_type": "text",
    "id": "80jfhVYp38mK"
   },
   "source": [
    "#### Exercise 1"
   ]
  },
  {
   "cell_type": "markdown",
   "metadata": {
    "colab_type": "text",
    "id": "SfN0BmF64Iwe"
   },
   "source": []
  },
  {
   "cell_type": "markdown",
   "metadata": {
    "colab_type": "text",
    "id": "I1lS_E9H3_Mm"
   },
   "source": [
    "Make a program that lists every country in `clist`:"
   ]
  },
  {
   "cell_type": "code",
   "execution_count": null,
   "metadata": {
    "colab": {},
    "colab_type": "code",
    "id": "h3sBHz_Y4Dat"
   },
   "outputs": [],
   "source": [
    "clist = ['Canada','USA','Mexico','Australia']\n",
    "\n",
    "# Write for loop here"
   ]
  },
  {
   "cell_type": "markdown",
   "metadata": {
    "colab_type": "text",
    "id": "yYPcNvcd4Jpu"
   },
   "source": [
    "#### Exercise 2"
   ]
  },
  {
   "cell_type": "markdown",
   "metadata": {
    "colab_type": "text",
    "id": "ngkRtBNh4UV1"
   },
   "source": [
    "Create a loop that sums the numbers from 100 to 200:"
   ]
  },
  {
   "cell_type": "code",
   "execution_count": null,
   "metadata": {
    "colab": {},
    "colab_type": "code",
    "id": "Ce2_aSz-4Y4u"
   },
   "outputs": [],
   "source": [
    "numSum = 0\n",
    "\n",
    "# Hint: you can use `range(100,200)` to make a list from [100-199]\n",
    "\n",
    "# Write loop here\n",
    "\n",
    "print(numSum)"
   ]
  },
  {
   "cell_type": "markdown",
   "metadata": {
    "colab_type": "text",
    "id": "7MJuRC04vB9P"
   },
   "source": [
    "## While Loops"
   ]
  },
  {
   "cell_type": "markdown",
   "metadata": {
    "colab_type": "text",
    "id": "Sswu5-kQ5ara"
   },
   "source": [
    "A while loop repeats code until the condition is met. Unlike for loops, the number of iterations in it may be unknown. A while loop always consists of a condition and a block of code.\n",
    "\n",
    "A while loop ends if and only if the condition is true, in contrast to a for loop that always has a finite countable number of steps. "
   ]
  },
  {
   "cell_type": "markdown",
   "metadata": {
    "colab_type": "text",
    "id": "yYEQIBli5cOT"
   },
   "source": [
    "### Example"
   ]
  },
  {
   "cell_type": "markdown",
   "metadata": {
    "colab_type": "text",
    "id": "mOndVF0U5kpH"
   },
   "source": [
    "The while loop below defines the condition (x < 10) and repeats the instructions until that condition is true. "
   ]
  },
  {
   "cell_type": "code",
   "execution_count": null,
   "metadata": {
    "colab": {},
    "colab_type": "code",
    "id": "CB33RfjZ5lY1"
   },
   "outputs": [],
   "source": [
    "x = 3                              \n",
    "while x < 10:\n",
    "    print(x)\n",
    "    x = x + 1"
   ]
  },
  {
   "cell_type": "markdown",
   "metadata": {
    "colab_type": "text",
    "id": "e9WkvxWi5qU0"
   },
   "source": [
    "You can also create infinite loops, this is when the condition never changes."
   ]
  },
  {
   "cell_type": "code",
   "execution_count": null,
   "metadata": {
    "colab": {},
    "colab_type": "code",
    "id": "f-MxyFFL5q3o"
   },
   "outputs": [],
   "source": [
    "while True:\n",
    "    print('Forever')"
   ]
  },
  {
   "cell_type": "markdown",
   "metadata": {
    "colab_type": "text",
    "id": "ba4tPsl65zNb"
   },
   "source": [
    "#### Control flow graph\n",
    "\n",
    "Schematically a while loop looks like the image below. This is called the control flow graph (cfg). A visual way of what happens when a while loop is entered.\n",
    "\n",
    "It should be noted that there can be multiple statements inside the while loop. If the code gets very long you can also call functions from inside the loop.\n",
    "\n",
    "![Flow chart](https://pythonbasics.org/wp-content/uploads/2018/02/while-loop.png)"
   ]
  },
  {
   "cell_type": "markdown",
   "metadata": {
    "colab_type": "text",
    "id": "659TSbK35d42"
   },
   "source": [
    "### Exercise"
   ]
  },
  {
   "cell_type": "markdown",
   "metadata": {
    "colab_type": "text",
    "id": "6XMmiJTC5-GX"
   },
   "source": [
    "Make a program that lists the countries in the set below using a while loop:"
   ]
  },
  {
   "cell_type": "code",
   "execution_count": null,
   "metadata": {
    "colab": {},
    "colab_type": "code",
    "id": "yiJOzL4K6CZ7"
   },
   "outputs": [],
   "source": [
    "country_list = [\"Canada\",\"USA\",\"Mexico\"]\n",
    "\n",
    "# Your code goes here"
   ]
  },
  {
   "cell_type": "markdown",
   "metadata": {
    "colab_type": "text",
    "id": "XTGgmiQE7E-w"
   },
   "source": [
    "#### Questions to think about:\n",
    "1. What’s the difference between a while loop and a for loop?\n",
    "2. Can you sum numbers in a while loop?\n",
    "3. Can a for loop be used inside a while loop?"
   ]
  },
  {
   "cell_type": "markdown",
   "metadata": {
    "colab_type": "text",
    "id": "VcGJvViinGMb"
   },
   "source": [
    "# Functions"
   ]
  },
  {
   "cell_type": "markdown",
   "metadata": {
    "colab_type": "text",
    "id": "rhNZoVxisVe7"
   },
   "source": [
    "To group sets of code you can use functions. Functions are small parts of repeatable code that you can \"call\" with certain parameters.\n",
    "\n",
    "Without functions we only have a long list of instructions. Functions can help you organize code. Functions can also be reused, often they are included in modules."
   ]
  },
  {
   "cell_type": "markdown",
   "metadata": {
    "colab_type": "text",
    "id": "SAzheJfA9i1J"
   },
   "source": []
  },
  {
   "cell_type": "markdown",
   "metadata": {
    "colab_type": "text",
    "id": "mkgp61fO9kez"
   },
   "source": [
    "## Scope"
   ]
  },
  {
   "cell_type": "markdown",
   "metadata": {
    "colab_type": "text",
    "id": "dWIpixDn9l25"
   },
   "source": [
    "Variables have a certain reach within a program. A global variable can be used anywhere in a program, but a local variable is known only in a certain area (function, loop)\n",
    "\n",
    "Sometimes the word scope is used in projects: “its outside the scope of the project”, meaning not included. Likewise, a variable can be outside the scope of a function.\n",
    "\n",
    "Scope has to do with where a variable can be used. If you define a variable, it’s not necessarily usable everywhere in the code. A variable defined in a function is only known in a function, unless you return it."
   ]
  },
  {
   "cell_type": "code",
   "execution_count": null,
   "metadata": {
    "colab": {},
    "colab_type": "code",
    "id": "DYQjs72t9p4A"
   },
   "outputs": [],
   "source": [
    "def something():\n",
    "   localVar = 1\n",
    "\n",
    "# this will crash because localVar is a local variable\n",
    "print(localVar)"
   ]
  },
  {
   "cell_type": "markdown",
   "metadata": {
    "colab_type": "text",
    "id": "U4ZIa_qx9ule"
   },
   "source": [
    "That means unless you return the variables from a function, they can only be used there. This is in stark constrast with global variables: global variables can be used anywhere including in multiple functions and the main code. Global variables are often defined at the top of the program.\n",
    "\n",
    "###Global and local variables\n",
    "\n",
    "In the program below, balance is a global variable. It can be used anywhere in the code. But the variable x can only be used inside addAmount."
   ]
  },
  {
   "cell_type": "code",
   "execution_count": null,
   "metadata": {
    "colab": {},
    "colab_type": "code",
    "id": "Gk3UvYpK90cl"
   },
   "outputs": [],
   "source": [
    "balance = 0\n",
    "\n",
    "def addAmount(x):\n",
    "    global balance\n",
    "    balance = balance + x\n",
    "\n",
    "addAmount(5)\n",
    "print(balance)"
   ]
  },
  {
   "cell_type": "markdown",
   "metadata": {
    "colab_type": "text",
    "id": "egHrxptZ918o"
   },
   "source": [
    "Visually that’s:\n",
    "\n",
    "![Visual](https://pythonbasics.org/wp-content/uploads/2018/02/scope.png)\n",
    "\n",
    "We have two variables: balance, a global variable that can be used anywhere. x, that can only be used inside the function (its not known outside, local scope)."
   ]
  },
  {
   "cell_type": "markdown",
   "metadata": {
    "colab_type": "text",
    "id": "O3nokpaprpRm"
   },
   "source": [
    "## Examples\n"
   ]
  },
  {
   "cell_type": "markdown",
   "metadata": {
    "colab_type": "text",
    "id": "NH6ntzTbrueJ"
   },
   "source": [
    "### Functions with no parameters\n",
    "Functions can be seen as executable code blocks. A function can be used once or more.\n",
    "\n",
    "A simple example of a function is:"
   ]
  },
  {
   "cell_type": "code",
   "execution_count": null,
   "metadata": {
    "colab": {
     "base_uri": "https://localhost:8080/",
     "height": 35
    },
    "colab_type": "code",
    "id": "pVXIREg9plJO",
    "outputId": "83ac3f45-b9cd-4c9d-ae37-7b858f9b0468"
   },
   "outputs": [],
   "source": [
    "def currentYear():\n",
    "    print('2020')\n",
    "\n",
    "currentYear()"
   ]
  },
  {
   "cell_type": "markdown",
   "metadata": {
    "colab_type": "text",
    "id": "9oUZTKBqr00z"
   },
   "source": [
    "The function is immediately called in this example. Function definitions always start with the def keyword.\n",
    "\n",
    "Functions can be reusable, once created a function can be used in multiple programs. The print function is an example of that.\n",
    "Functions with parameters"
   ]
  },
  {
   "cell_type": "markdown",
   "metadata": {
    "colab_type": "text",
    "id": "7xNhjbscoOGS"
   },
   "source": [
    "### Functions with parameters\n",
    "In the example below we have parameter x and y. What do you think it will print when you run it?"
   ]
  },
  {
   "cell_type": "code",
   "execution_count": null,
   "metadata": {
    "colab": {},
    "colab_type": "code",
    "id": "EWTg-yXKqZlP"
   },
   "outputs": [],
   "source": [
    "def f(x,y):\n",
    "    return x*y\n",
    "\n",
    "print( f(3,4) )"
   ]
  },
  {
   "cell_type": "markdown",
   "metadata": {
    "colab_type": "text",
    "id": "nn78Oe42qeNG"
   },
   "source": [
    "In this example we have two functions: f(x,y) and print(). The function f(x,y) passed its output to the print function using the return keyword.\n",
    "\n",
    "![Diagram](https://pythonbasics.org/wp-content/uploads/2018/02/function-example.png)"
   ]
  },
  {
   "cell_type": "markdown",
   "metadata": {
    "colab_type": "text",
    "id": "SQaSbxgGq9NS"
   },
   "source": [
    "### Return variables\n",
    "Functions can return variables. Sometimes a function makes a calculation or has some output, this can be given to the program with a return varaible.\n",
    "\n",
    "In many cases that output is stored in a variable:"
   ]
  },
  {
   "cell_type": "code",
   "execution_count": null,
   "metadata": {
    "colab": {
     "base_uri": "https://localhost:8080/",
     "height": 35
    },
    "colab_type": "code",
    "id": "aClhlosKrAxA",
    "outputId": "cf03fb25-ea26-4ade-d47e-61ac2e8d0cbb"
   },
   "outputs": [],
   "source": [
    "def f(x,y):\n",
    "    return x*y\n",
    "    \n",
    "result = f(3,4)\n",
    "print(result)"
   ]
  },
  {
   "cell_type": "markdown",
   "metadata": {
    "colab_type": "text",
    "id": "xQcSTfNRrWYO"
   },
   "source": [
    "In this case the program will call the function f with parameters 3 and 4, then save the output to the variable result."
   ]
  },
  {
   "cell_type": "markdown",
   "metadata": {
    "colab_type": "text",
    "id": "r5Omu3QbsDou"
   },
   "source": [
    "## Exercises"
   ]
  },
  {
   "cell_type": "markdown",
   "metadata": {
    "colab_type": "text",
    "id": "fH6X6XxYsZfb"
   },
   "source": [
    "### Exercise 1"
   ]
  },
  {
   "cell_type": "markdown",
   "metadata": {
    "colab_type": "text",
    "id": "7O1_1Yybse8w"
   },
   "source": [
    "Make a function that sums the list mylist = [1,2,3,4,5]:"
   ]
  },
  {
   "cell_type": "code",
   "execution_count": null,
   "metadata": {
    "colab": {},
    "colab_type": "code",
    "id": "q830cCqUsij2"
   },
   "outputs": [],
   "source": [
    "mylist = [1,2,3,4,5]\n",
    "\n",
    "# Declare your function mySum here\n",
    "\n",
    "print(mySum(mylist))"
   ]
  },
  {
   "cell_type": "markdown",
   "metadata": {
    "colab_type": "text",
    "id": "kHGeN644tQJ-"
   },
   "source": [
    "### Exercise 2"
   ]
  },
  {
   "cell_type": "markdown",
   "metadata": {
    "colab_type": "text",
    "id": "uVDwG1XPtRVo"
   },
   "source": [
    "Can variables defined in a function be used in another function? (hint: scope)"
   ]
  },
  {
   "cell_type": "code",
   "execution_count": null,
   "metadata": {
    "colab": {},
    "colab_type": "code",
    "id": "0JqLOwzYta7E"
   },
   "outputs": [],
   "source": [
    "def add(x, y):\n",
    "  # Variable added gets declared\n",
    "  added = x + y\n",
    "  return added\n",
    "\n",
    "def add2(x, y):\n",
    "  # Call the function where the `added` variable is declared and returned\n",
    "  add(x, y)\n",
    "  # What happens when you try to return a variable from another function?\n",
    "  return added\n",
    "\n",
    "add2(1, 2)"
   ]
  }
 ],
 "metadata": {
  "colab": {
   "collapsed_sections": [],
   "name": "Python_training 2.ipynb",
   "provenance": []
  },
  "kernelspec": {
   "display_name": "Python 3",
   "language": "python",
   "name": "python3"
  },
  "language_info": {
   "codemirror_mode": {
    "name": "ipython",
    "version": 3
   },
   "file_extension": ".py",
   "mimetype": "text/x-python",
   "name": "python",
   "nbconvert_exporter": "python",
   "pygments_lexer": "ipython3",
   "version": "3.7.6"
  }
 },
 "nbformat": 4,
 "nbformat_minor": 1
}
