{
 "cells": [
  {
   "cell_type": "markdown",
   "metadata": {
    "colab_type": "text",
    "id": "51NqjVAulV7G"
   },
   "source": [
    "# Welcome to Python Training 1"
   ]
  },
  {
   "cell_type": "markdown",
   "metadata": {
    "colab_type": "text",
    "id": "bD8Z7gZplkL5"
   },
   "source": [
    "The goal of this training is to familiarize you with the basics of Python."
   ]
  },
  {
   "cell_type": "markdown",
   "metadata": {
    "colab_type": "text",
    "id": "VcGJvViinGMb"
   },
   "source": [
    "# Getting started\n",
    "\n",
    "Python is a programming language with a clean syntax that is easy to learn. Python programs can be run under all desktop computers.\n",
    "\n",
    "It used in many application domains including: Web and Internet Development,Scientific apps, Desktop apps, education and general software applications.\n",
    "\n",
    "# Python interpreter\n",
    "\n",
    "To run Python programs, you will need the Python interpreter and possibly a graphical editor.\n",
    "A Python interpreter executes Python code (sometimes called programs).\n",
    "\n",
    "A program can be one or more Python files. Code files can include other files or modules. To run a program, you need to specify a parameter when executing Python.\n"
   ]
  },
  {
   "cell_type": "markdown",
   "metadata": {
    "colab_type": "text",
    "id": "7xNhjbscoOGS"
   },
   "source": [
    "# Jupyter Notebook\n",
    "\n",
    "The Jupyter Notebook is an open source web application that you can use to create and share documents that contain live code, equations, visualizations, and text. Jupyter Notebook is maintained by the people at Project Jupyter.\n",
    "\n",
    "### How to use the Jupyter Notebook\n",
    "There are two types of 'cells' in a notebook: text and code. The text cells are merely to add information to the document. The code cells contain small chunks of Python that can be run individually. To run a code cell, press Shift + Enter, or press the play button. \n",
    "\n"
   ]
  },
  {
   "cell_type": "code",
   "execution_count": null,
   "metadata": {
    "colab": {
     "base_uri": "https://localhost:8080/",
     "height": 34
    },
    "colab_type": "code",
    "id": "871L3FjopzjP",
    "outputId": "868a06fe-b551-49f6-f11b-3bb04b530691"
   },
   "outputs": [],
   "source": [
    "print('Hello, World!')"
   ]
  },
  {
   "cell_type": "markdown",
   "metadata": {
    "colab_type": "text",
    "id": "Vy6-9TGGp7gD"
   },
   "source": [
    "Imagine the document as a computer, and you can run each code cell individually on it. Since they all run on the same computer, they affect each other. After you run a cell, a number is shown in brackets [ ] next to it. The numbers increase in chronological order.\n",
    "\n",
    "For example, try running the cell below."
   ]
  },
  {
   "cell_type": "code",
   "execution_count": null,
   "metadata": {
    "colab": {
     "base_uri": "https://localhost:8080/",
     "height": 34
    },
    "colab_type": "code",
    "id": "Cv_ybsOhp2Zb",
    "outputId": "2070ad09-d025-40ec-e627-d8045df3d05b"
   },
   "outputs": [],
   "source": [
    "print(a)"
   ]
  },
  {
   "cell_type": "markdown",
   "metadata": {
    "colab_type": "text",
    "id": "lI4DPaCHqzXU"
   },
   "source": [
    "You will notice that there is an `NameError` that says name `a` is not defined. In the cell below, we will define `a` when run. Then, we should be able to run the cell above.\n"
   ]
  },
  {
   "cell_type": "code",
   "execution_count": null,
   "metadata": {
    "colab": {},
    "colab_type": "code",
    "id": "X-rp_e_Pqi1d"
   },
   "outputs": [],
   "source": [
    "a = 'Hello, World!'"
   ]
  },
  {
   "cell_type": "markdown",
   "metadata": {
    "colab_type": "text",
    "id": "oP1mCYT3rtWi"
   },
   "source": [
    "Hopefully by now, you feel comfortable using the Jupyter notebook and understand the following:\n",
    "\n",
    "\n",
    "1.   How to run a code cell\n",
    "2.   All the code cells run on the same 'computer', meaning they share memory\n",
    "3.   Only one cell can run at a time\n",
    "4.   The order in which the cells run is important\n",
    "\n",
    "Once you feel comfortable with these things, you are ready to get started with Python.\n",
    "\n"
   ]
  },
  {
   "cell_type": "markdown",
   "metadata": {
    "colab_type": "text",
    "id": "meyjBOiqswJ9"
   },
   "source": [
    "## Python Introduction\n",
    "\n",
    "You are now ready to begin learning Python."
   ]
  },
  {
   "cell_type": "markdown",
   "metadata": {
    "colab_type": "text",
    "id": "DTSorDvkw_EX"
   },
   "source": [
    "### Printing\n",
    "\n",
    "You may have noticed that the first two cells produced an output, whereas the third did not. This is because the first two have `print()` in them. The `print()` statement in a program tells the computer to output whatever is inside of the parentheses ( ). If you separate values with a comma, it will put a space between them. Feel free to experiment with what you can put inside the print statement."
   ]
  },
  {
   "cell_type": "code",
   "execution_count": null,
   "metadata": {
    "colab": {
     "base_uri": "https://localhost:8080/",
     "height": 34
    },
    "colab_type": "code",
    "id": "sPLxpJ73xUHX",
    "outputId": "02dc7d84-48db-4517-b6e2-12253795da17"
   },
   "outputs": [],
   "source": [
    "print(1234)"
   ]
  },
  {
   "cell_type": "code",
   "execution_count": null,
   "metadata": {
    "colab": {
     "base_uri": "https://localhost:8080/",
     "height": 34
    },
    "colab_type": "code",
    "id": "x-Pcq4FzyhWU",
    "outputId": "d0ae5399-7ca8-4516-a8d0-2e7015b9e4b9"
   },
   "outputs": [],
   "source": [
    "print('abcd', 'defg')"
   ]
  },
  {
   "cell_type": "code",
   "execution_count": null,
   "metadata": {
    "colab": {
     "base_uri": "https://localhost:8080/",
     "height": 51
    },
    "colab_type": "code",
    "id": "4BFXYGJuyhsk",
    "outputId": "10d0d359-2339-467d-a756-d6ec1d54d099"
   },
   "outputs": [],
   "source": [
    "import math\n",
    "\n",
    "print(math.pi)\n",
    "print(4 + 7 - 3)"
   ]
  },
  {
   "cell_type": "markdown",
   "metadata": {
    "colab_type": "text",
    "id": "TtEoNeXPCD_C"
   },
   "source": [
    "#### Exercise\n",
    "\n",
    "Print out your name."
   ]
  },
  {
   "cell_type": "code",
   "execution_count": null,
   "metadata": {
    "colab": {},
    "colab_type": "code",
    "id": "B_fW0FOqCWX6"
   },
   "outputs": [],
   "source": [
    "# Insert your own print line"
   ]
  },
  {
   "cell_type": "markdown",
   "metadata": {
    "colab_type": "text",
    "id": "mVFFc8KhxUz_"
   },
   "source": [
    "### Datatypes\n",
    "\n",
    "In computer science, there is something called *datatypes*. A datatype is a category for a value that can be stored on a computer. In Python, there are 3 basic datatypes:\n",
    "\n",
    "1.   `Integer`, which are integers (e.g. `14, -100, 0`)\n",
    "2.   `Float`, which are numbers with decimal points (e.g. `13.2, 9.0, math.pi`)\n",
    "3.   `String`, which is a sequence of characters (e.g. `'Hello, World!', \"abcd\"`)\n",
    "\n",
    "\n",
    "Each datatype can be expressed in its corresponding *literal*. A literal is just a formal term for the fundamental value.\n",
    "\n",
    "1.   `Integer` literals are defined by any number *without* a decimal point.\n",
    "2.   `Float` literals are defined by any number with a decimal point.\n",
    "3.   `String` literals are defined by anything in between single or double quotes. A common mistake people make is to forget to surround their literal in a pair of quotes.\n",
    "\n",
    "The print function can output any literals that it is given. Experiment with that now.\n",
    "\n"
   ]
  },
  {
   "cell_type": "code",
   "execution_count": null,
   "metadata": {
    "colab": {
     "base_uri": "https://localhost:8080/",
     "height": 51
    },
    "colab_type": "code",
    "id": "QDJTY2GS1_5-",
    "outputId": "631d19ce-a1fb-4a13-a6c5-a38a0f3d5067"
   },
   "outputs": [],
   "source": [
    "print(3, 3.14159, 'pi')\n",
    "print('[insert whatever]')"
   ]
  },
  {
   "cell_type": "markdown",
   "metadata": {
    "colab_type": "text",
    "id": "_JyOOqjg2Any"
   },
   "source": [
    "If you are not sure what type something is, you can always have the computer tell you the datatype, which you can get using `type()`.\n"
   ]
  },
  {
   "cell_type": "code",
   "execution_count": null,
   "metadata": {
    "colab": {
     "base_uri": "https://localhost:8080/",
     "height": 34
    },
    "colab_type": "code",
    "id": "digFTH0arbnU",
    "outputId": "6a2a439e-92d0-48f3-cf4f-89a4a7d1cb17"
   },
   "outputs": [],
   "source": [
    "print(type(1e10))"
   ]
  },
  {
   "cell_type": "markdown",
   "metadata": {
    "colab_type": "text",
    "id": "EKsrVa3P2_Hq"
   },
   "source": [
    "You can perform basic math operations with the number (`Integer`, `Float`) datatypes.\n",
    "\n",
    "*   Addition: `2 + 2`\n",
    "*   Subtraction: `6 - 3`\n",
    "*   Multiplication: `4 * 9`\n",
    "*   Float Division: `12 / 4` (this means the output is a float type)\n",
    "*   Integer Division: `12 // 3` (output is an integer, rounded down if needed)\n",
    "*   Exponentiation: `2 ** 3`\n",
    "\n",
    "You can also use parentheses ( ) in you math to influence the order of operations. Experiment with these below.\n",
    "\n"
   ]
  },
  {
   "cell_type": "code",
   "execution_count": null,
   "metadata": {
    "colab": {
     "base_uri": "https://localhost:8080/",
     "height": 34
    },
    "colab_type": "code",
    "id": "z3Ec35a22-af",
    "outputId": "8ab222c2-930a-4133-dc7c-3555033cb806"
   },
   "outputs": [],
   "source": [
    "print((5 + 7) // 3 ** 1)"
   ]
  },
  {
   "cell_type": "markdown",
   "metadata": {
    "colab_type": "text",
    "id": "hD0L1Nwm-8G-"
   },
   "source": [
    "You can add strings together too.\n"
   ]
  },
  {
   "cell_type": "code",
   "execution_count": null,
   "metadata": {
    "colab": {
     "base_uri": "https://localhost:8080/",
     "height": 34
    },
    "colab_type": "code",
    "id": "aIOEsHml-_Hh",
    "outputId": "36e40155-7ddf-4368-80cf-feb67d79a119"
   },
   "outputs": [],
   "source": [
    "print('This is a' + ' complete sentence.')"
   ]
  },
  {
   "cell_type": "markdown",
   "metadata": {
    "colab_type": "text",
    "id": "L2H7ibxED9y6"
   },
   "source": [
    "Just a heads up, you cannot use operators between different types. For instance, the cell below will cause an error."
   ]
  },
  {
   "cell_type": "code",
   "execution_count": null,
   "metadata": {
    "colab": {
     "base_uri": "https://localhost:8080/",
     "height": 164
    },
    "colab_type": "code",
    "id": "A8FHAvZnEJ9I",
    "outputId": "ae8b06f7-547c-4edd-bd0e-9bbe7b001908"
   },
   "outputs": [],
   "source": [
    "print(3 + ' is the magic number.')"
   ]
  },
  {
   "cell_type": "markdown",
   "metadata": {
    "colab_type": "text",
    "id": "0pyz3hg62zZv"
   },
   "source": [
    "### Variables\n",
    "\n",
    "Literals are great, but they can get very clunky, especially if the same literal is used repeatedly. Additionally, literals can only ever be the value that they are. *Variables* are devices have a name and store a value. It is important to give the variable a good name so that you know what it does. For example, if I am adding up a bunch of numbers, I might call the sum variable `total`."
   ]
  },
  {
   "cell_type": "markdown",
   "metadata": {
    "colab_type": "text",
    "id": "UIiR5jxRCn2b"
   },
   "source": [
    "You can *instantiate*, or create, a variable by using the following syntax: `name = value`.\n",
    "\n",
    "**Exercise:** Create 3 variables for your name, age, and GPA. Make sure to name them well."
   ]
  },
  {
   "cell_type": "code",
   "execution_count": null,
   "metadata": {
    "colab": {},
    "colab_type": "code",
    "id": "M1ZtjAjGCoj1"
   },
   "outputs": [],
   "source": []
  },
  {
   "cell_type": "markdown",
   "metadata": {
    "colab_type": "text",
    "id": "SNeXmgRGDo-T"
   },
   "source": [
    "You can access this value by using the name of the variable.\n",
    "\n",
    "**Exercise:** Print out a sentence that uses the variables you created above."
   ]
  },
  {
   "cell_type": "code",
   "execution_count": null,
   "metadata": {
    "colab": {},
    "colab_type": "code",
    "id": "5mqIWm8_D1gw"
   },
   "outputs": [],
   "source": []
  },
  {
   "cell_type": "markdown",
   "metadata": {
    "colab_type": "text",
    "id": "lRbwNXJQDSmU"
   },
   "source": [
    "Just as in algebra, variables can have different values over time."
   ]
  },
  {
   "cell_type": "code",
   "execution_count": null,
   "metadata": {
    "colab": {
     "base_uri": "https://localhost:8080/",
     "height": 51
    },
    "colab_type": "code",
    "id": "fEv0ITLd1jQ0",
    "outputId": "9152f494-3c60-449e-9191-7bd8dddf8117"
   },
   "outputs": [],
   "source": [
    "num = 5\n",
    "print(num)\n",
    "\n",
    "num = 10\n",
    "print(num)"
   ]
  },
  {
   "cell_type": "markdown",
   "metadata": {
    "colab_type": "text",
    "id": "dU_c2FEZ479o"
   },
   "source": [
    "### Comments\n",
    "\n",
    "Comments are a great way to add information to your code without actaully running. Just as in a document or book, comments serve to clarify certain parts of code, give instruction on how to use code, and identify natural progression of ideas. In Python, comments are created using a `#`. Everything on a line after a `#` becomes commented code.\n",
    "\n",
    "Try adding and removing comments on your own."
   ]
  },
  {
   "cell_type": "code",
   "execution_count": null,
   "metadata": {
    "colab": {
     "base_uri": "https://localhost:8080/",
     "height": 51
    },
    "colab_type": "code",
    "id": "oPuoqj--47WN",
    "outputId": "bcd9a6cc-cb8c-4656-ad51-27259e262688"
   },
   "outputs": [],
   "source": [
    "# This is a comment.\n",
    "\n",
    "a  = 15     # The variable will be assigned,\n",
    "b = 20      # But these comments will not run.\n",
    "\n",
    "print(a + b)\n",
    "# print(b - a)\n",
    "print(a * b)"
   ]
  }
 ],
 "metadata": {
  "colab": {
   "collapsed_sections": [],
   "name": "Python_training 1.ipynb",
   "provenance": []
  },
  "kernelspec": {
   "display_name": "Python 3",
   "language": "python",
   "name": "python3"
  },
  "language_info": {
   "codemirror_mode": {
    "name": "ipython",
    "version": 3
   },
   "file_extension": ".py",
   "mimetype": "text/x-python",
   "name": "python",
   "nbconvert_exporter": "python",
   "pygments_lexer": "ipython3",
   "version": "3.7.6"
  }
 },
 "nbformat": 4,
 "nbformat_minor": 1
}
