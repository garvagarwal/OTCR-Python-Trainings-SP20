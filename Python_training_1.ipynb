{
  "nbformat": 4,
  "nbformat_minor": 0,
  "metadata": {
    "colab": {
      "name": "Python_training 1.ipynb",
      "provenance": [],
      "collapsed_sections": []
    },
    "kernelspec": {
      "name": "python3",
      "display_name": "Python 3"
    }
  },
  "cells": [
    {
      "cell_type": "markdown",
      "metadata": {
        "id": "51NqjVAulV7G",
        "colab_type": "text"
      },
      "source": [
        "# Welcome to Python Training 1"
      ]
    },
    {
      "cell_type": "markdown",
      "metadata": {
        "id": "bD8Z7gZplkL5",
        "colab_type": "text"
      },
      "source": [
        "The goal of this training is to familiarize you with the basics of Python."
      ]
    },
    {
      "cell_type": "markdown",
      "metadata": {
        "id": "VcGJvViinGMb",
        "colab_type": "text"
      },
      "source": [
        "# Getting started\n",
        "\n",
        "Python is a programming language with a clean syntax that is easy to learn. Python programs can be run under all desktop computers.\n",
        "\n",
        "It used in many application domains including: Web and Internet Development,Scientific apps, Desktop apps, education and general software applications.\n",
        "\n",
        "# Python interpreter\n",
        "\n",
        "To run Python programs, you will need the Python interpreter and possibly a graphical editor.\n",
        "A Python interpreter executes Python code (sometimes called programs).\n",
        "\n",
        "A program can be one or more Python files. Code files can include other files or modules. To run a program, you need to specify a parameter when executing Python.\n"
      ]
    },
    {
      "cell_type": "markdown",
      "metadata": {
        "id": "7xNhjbscoOGS",
        "colab_type": "text"
      },
      "source": [
        "# Jupyter Notebook\n",
        "\n",
        "The Jupyter Notebook is an open source web application that you can use to create and share documents that contain live code, equations, visualizations, and text. Jupyter Notebook is maintained by the people at Project Jupyter.\n",
        "\n",
        "### How to use the Jupyter Notebook\n",
        "There are two types of 'cells' in a notebook: text and code. The text cells are merely to add information to the document. The code cells contain small chunks of Python that can be run individually. To run a code cell, press Shift + Enter, or press the play button. \n",
        "\n"
      ]
    },
    {
      "cell_type": "code",
      "metadata": {
        "id": "871L3FjopzjP",
        "colab_type": "code",
        "outputId": "868a06fe-b551-49f6-f11b-3bb04b530691",
        "colab": {
          "base_uri": "https://localhost:8080/",
          "height": 34
        }
      },
      "source": [
        "print('Hello, World!')"
      ],
      "execution_count": 0,
      "outputs": [
        {
          "output_type": "stream",
          "text": [
            "Hello, World!\n"
          ],
          "name": "stdout"
        }
      ]
    },
    {
      "cell_type": "markdown",
      "metadata": {
        "id": "Vy6-9TGGp7gD",
        "colab_type": "text"
      },
      "source": [
        "Imagine the document as a computer, and you can run each code cell individually on it. Since they all run on the same computer, they affect each other. After you run a cell, a number is shown in brackets [ ] next to it. The numbers increase in chronological order.\n",
        "\n",
        "For example, try running the cell below."
      ]
    },
    {
      "cell_type": "code",
      "metadata": {
        "id": "Cv_ybsOhp2Zb",
        "colab_type": "code",
        "outputId": "2070ad09-d025-40ec-e627-d8045df3d05b",
        "colab": {
          "base_uri": "https://localhost:8080/",
          "height": 34
        }
      },
      "source": [
        "print(a)"
      ],
      "execution_count": 0,
      "outputs": [
        {
          "output_type": "stream",
          "text": [
            "Hello, World!\n"
          ],
          "name": "stdout"
        }
      ]
    },
    {
      "cell_type": "markdown",
      "metadata": {
        "id": "lI4DPaCHqzXU",
        "colab_type": "text"
      },
      "source": [
        "You will notice that there is an `NameError` that says name `a` is not defined. In the cell below, we will define `a` when run. Then, we should be able to run the cell above.\n"
      ]
    },
    {
      "cell_type": "code",
      "metadata": {
        "id": "X-rp_e_Pqi1d",
        "colab_type": "code",
        "colab": {}
      },
      "source": [
        "a = 'Hello, World!'"
      ],
      "execution_count": 0,
      "outputs": []
    },
    {
      "cell_type": "markdown",
      "metadata": {
        "id": "oP1mCYT3rtWi",
        "colab_type": "text"
      },
      "source": [
        "Hopefully by now, you feel comfortable using the Jupyter notebook and understand the following:\n",
        "\n",
        "\n",
        "1.   How to run a code cell\n",
        "2.   All the code cells run on the same 'computer', meaning they share memory\n",
        "3.   Only one cell can run at a time\n",
        "4.   The order in which the cells run is important\n",
        "\n",
        "Once you feel comfortable with these things, you are ready to get started with Python.\n",
        "\n"
      ]
    },
    {
      "cell_type": "markdown",
      "metadata": {
        "id": "meyjBOiqswJ9",
        "colab_type": "text"
      },
      "source": [
        "## Python Introduction\n",
        "\n",
        "You are now ready to begin learning Python."
      ]
    },
    {
      "cell_type": "markdown",
      "metadata": {
        "id": "DTSorDvkw_EX",
        "colab_type": "text"
      },
      "source": [
        "### Printing\n",
        "\n",
        "You may have noticed that the first two cells produced an output, whereas the third did not. This is because the first two have `print()` in them. The `print()` statement in a program tells the computer to output whatever is inside of the parentheses ( ). If you separate values with a comma, it will put a space between them. Feel free to experiment with what you can put inside the print statement."
      ]
    },
    {
      "cell_type": "code",
      "metadata": {
        "id": "sPLxpJ73xUHX",
        "colab_type": "code",
        "outputId": "02dc7d84-48db-4517-b6e2-12253795da17",
        "colab": {
          "base_uri": "https://localhost:8080/",
          "height": 34
        }
      },
      "source": [
        "print(1234)"
      ],
      "execution_count": 0,
      "outputs": [
        {
          "output_type": "stream",
          "text": [
            "1234\n"
          ],
          "name": "stdout"
        }
      ]
    },
    {
      "cell_type": "code",
      "metadata": {
        "id": "x-Pcq4FzyhWU",
        "colab_type": "code",
        "outputId": "d0ae5399-7ca8-4516-a8d0-2e7015b9e4b9",
        "colab": {
          "base_uri": "https://localhost:8080/",
          "height": 34
        }
      },
      "source": [
        "print('abcd', 'defg')"
      ],
      "execution_count": 0,
      "outputs": [
        {
          "output_type": "stream",
          "text": [
            "abcd defg\n"
          ],
          "name": "stdout"
        }
      ]
    },
    {
      "cell_type": "code",
      "metadata": {
        "id": "4BFXYGJuyhsk",
        "colab_type": "code",
        "outputId": "10d0d359-2339-467d-a756-d6ec1d54d099",
        "colab": {
          "base_uri": "https://localhost:8080/",
          "height": 51
        }
      },
      "source": [
        "import math\n",
        "\n",
        "print(math.pi)\n",
        "print(4 + 7 - 3)"
      ],
      "execution_count": 0,
      "outputs": [
        {
          "output_type": "stream",
          "text": [
            "3.141592653589793\n",
            "8\n"
          ],
          "name": "stdout"
        }
      ]
    },
    {
      "cell_type": "markdown",
      "metadata": {
        "id": "TtEoNeXPCD_C",
        "colab_type": "text"
      },
      "source": [
        "#### Exercise\n",
        "\n",
        "Print out your name."
      ]
    },
    {
      "cell_type": "code",
      "metadata": {
        "id": "B_fW0FOqCWX6",
        "colab_type": "code",
        "colab": {}
      },
      "source": [
        "# Insert your own print line"
      ],
      "execution_count": 0,
      "outputs": []
    },
    {
      "cell_type": "markdown",
      "metadata": {
        "id": "mVFFc8KhxUz_",
        "colab_type": "text"
      },
      "source": [
        "### Datatypes\n",
        "\n",
        "In computer science, there is something called *datatypes*. A datatype is a category for a value that can be stored on a computer. In Python, there are 3 basic datatypes:\n",
        "\n",
        "1.   `Integer`, which are integers (e.g. `14, -100, 0`)\n",
        "2.   `Float`, which are numbers with decimal points (e.g. `13.2, 9.0, math.pi`)\n",
        "3.   `String`, which is a sequence of characters (e.g. `'Hello, World!', \"abcd\"`)\n",
        "\n",
        "\n",
        "Each datatype can be expressed in its corresponding *literal*. A literal is just a formal term for the fundamental value.\n",
        "\n",
        "1.   `Integer` literals are defined by any number *without* a decimal point.\n",
        "2.   `Float` literals are defined by any number with a decimal point.\n",
        "3.   `String` literals are defined by anything in between single or double quotes. A common mistake people make is to forget to surround their literal in a pair of quotes.\n",
        "\n",
        "The print function can output any literals that it is given. Experiment with that now.\n",
        "\n"
      ]
    },
    {
      "cell_type": "code",
      "metadata": {
        "id": "QDJTY2GS1_5-",
        "colab_type": "code",
        "outputId": "631d19ce-a1fb-4a13-a6c5-a38a0f3d5067",
        "colab": {
          "base_uri": "https://localhost:8080/",
          "height": 51
        }
      },
      "source": [
        "print(3, 3.14159, 'pi')\n",
        "print('[insert whatever]')"
      ],
      "execution_count": 0,
      "outputs": [
        {
          "output_type": "stream",
          "text": [
            "3 3.14159 pi\n",
            "[insert whatever]\n"
          ],
          "name": "stdout"
        }
      ]
    },
    {
      "cell_type": "markdown",
      "metadata": {
        "id": "_JyOOqjg2Any",
        "colab_type": "text"
      },
      "source": [
        "If you are not sure what type something is, you can always have the computer tell you the datatype, which you can get using `type()`.\n"
      ]
    },
    {
      "cell_type": "code",
      "metadata": {
        "id": "digFTH0arbnU",
        "colab_type": "code",
        "outputId": "6a2a439e-92d0-48f3-cf4f-89a4a7d1cb17",
        "colab": {
          "base_uri": "https://localhost:8080/",
          "height": 34
        }
      },
      "source": [
        "print(type(1e10))"
      ],
      "execution_count": 0,
      "outputs": [
        {
          "output_type": "stream",
          "text": [
            "<class 'float'>\n"
          ],
          "name": "stdout"
        }
      ]
    },
    {
      "cell_type": "markdown",
      "metadata": {
        "id": "EKsrVa3P2_Hq",
        "colab_type": "text"
      },
      "source": [
        "You can perform basic math operations with the number (`Integer`, `Float`) datatypes.\n",
        "\n",
        "*   Addition: `2 + 2`\n",
        "*   Subtraction: `6 - 3`\n",
        "*   Multiplication: `4 * 9`\n",
        "*   Float Division: `12 / 4` (this means the output is a float type)\n",
        "*   Integer Division: `12 // 3` (output is an integer, rounded down if needed)\n",
        "*   Exponentiation: `2 ** 3`\n",
        "\n",
        "You can also use parentheses ( ) in you math to influence the order of operations. Experiment with these below.\n",
        "\n"
      ]
    },
    {
      "cell_type": "code",
      "metadata": {
        "id": "z3Ec35a22-af",
        "colab_type": "code",
        "outputId": "8ab222c2-930a-4133-dc7c-3555033cb806",
        "colab": {
          "base_uri": "https://localhost:8080/",
          "height": 34
        }
      },
      "source": [
        "print((5 + 7) // 3 ** 1)"
      ],
      "execution_count": 0,
      "outputs": [
        {
          "output_type": "stream",
          "text": [
            "4\n"
          ],
          "name": "stdout"
        }
      ]
    },
    {
      "cell_type": "markdown",
      "metadata": {
        "id": "hD0L1Nwm-8G-",
        "colab_type": "text"
      },
      "source": [
        "You can add strings together too.\n"
      ]
    },
    {
      "cell_type": "code",
      "metadata": {
        "id": "aIOEsHml-_Hh",
        "colab_type": "code",
        "outputId": "36e40155-7ddf-4368-80cf-feb67d79a119",
        "colab": {
          "base_uri": "https://localhost:8080/",
          "height": 34
        }
      },
      "source": [
        "print('This is a' + ' complete sentence.')"
      ],
      "execution_count": 0,
      "outputs": [
        {
          "output_type": "stream",
          "text": [
            "This is a complete sentence.\n"
          ],
          "name": "stdout"
        }
      ]
    },
    {
      "cell_type": "markdown",
      "metadata": {
        "id": "L2H7ibxED9y6",
        "colab_type": "text"
      },
      "source": [
        "Just a heads up, you cannot use operators between different types. For instance, the cell below will cause an error."
      ]
    },
    {
      "cell_type": "code",
      "metadata": {
        "id": "A8FHAvZnEJ9I",
        "colab_type": "code",
        "outputId": "ae8b06f7-547c-4edd-bd0e-9bbe7b001908",
        "colab": {
          "base_uri": "https://localhost:8080/",
          "height": 164
        }
      },
      "source": [
        "print(3 + ' is the magic number.')"
      ],
      "execution_count": 0,
      "outputs": [
        {
          "output_type": "error",
          "ename": "TypeError",
          "evalue": "ignored",
          "traceback": [
            "\u001b[0;31m---------------------------------------------------------------------------\u001b[0m",
            "\u001b[0;31mTypeError\u001b[0m                                 Traceback (most recent call last)",
            "\u001b[0;32m<ipython-input-35-5c738d81cad1>\u001b[0m in \u001b[0;36m<module>\u001b[0;34m()\u001b[0m\n\u001b[0;32m----> 1\u001b[0;31m \u001b[0mprint\u001b[0m\u001b[0;34m(\u001b[0m\u001b[0;36m3\u001b[0m \u001b[0;34m+\u001b[0m \u001b[0;34m' is the magic number.'\u001b[0m\u001b[0;34m)\u001b[0m\u001b[0;34m\u001b[0m\u001b[0;34m\u001b[0m\u001b[0m\n\u001b[0m",
            "\u001b[0;31mTypeError\u001b[0m: unsupported operand type(s) for +: 'int' and 'str'"
          ]
        }
      ]
    },
    {
      "cell_type": "markdown",
      "metadata": {
        "id": "0pyz3hg62zZv",
        "colab_type": "text"
      },
      "source": [
        "### Variables\n",
        "\n",
        "Literals are great, but they can get very clunky, especially if the same literal is used repeatedly. Additionally, literals can only ever be the value that they are. *Variables* are devices have a name and store a value. It is important to give the variable a good name so that you know what it does. For example, if I am adding up a bunch of numbers, I might call the sum variable `total`."
      ]
    },
    {
      "cell_type": "markdown",
      "metadata": {
        "id": "UIiR5jxRCn2b",
        "colab_type": "text"
      },
      "source": [
        "You can *instantiate*, or create, a variable by using the following syntax: `name = value`.\n",
        "\n",
        "**Exercise:** Create 3 variables for your name, age, and GPA. Make sure to name them well."
      ]
    },
    {
      "cell_type": "code",
      "metadata": {
        "id": "M1ZtjAjGCoj1",
        "colab_type": "code",
        "colab": {}
      },
      "source": [
        ""
      ],
      "execution_count": 0,
      "outputs": []
    },
    {
      "cell_type": "markdown",
      "metadata": {
        "id": "SNeXmgRGDo-T",
        "colab_type": "text"
      },
      "source": [
        "You can access this value by using the name of the variable.\n",
        "\n",
        "**Exercise:** Print out a sentence that uses the variables you created above."
      ]
    },
    {
      "cell_type": "code",
      "metadata": {
        "id": "5mqIWm8_D1gw",
        "colab_type": "code",
        "colab": {}
      },
      "source": [
        ""
      ],
      "execution_count": 0,
      "outputs": []
    },
    {
      "cell_type": "markdown",
      "metadata": {
        "id": "lRbwNXJQDSmU",
        "colab_type": "text"
      },
      "source": [
        "Just as in algebra, variables can have different values over time."
      ]
    },
    {
      "cell_type": "code",
      "metadata": {
        "id": "fEv0ITLd1jQ0",
        "colab_type": "code",
        "outputId": "9152f494-3c60-449e-9191-7bd8dddf8117",
        "colab": {
          "base_uri": "https://localhost:8080/",
          "height": 51
        }
      },
      "source": [
        "num = 5\n",
        "print(num)\n",
        "\n",
        "num = 10\n",
        "print(num)"
      ],
      "execution_count": 0,
      "outputs": [
        {
          "output_type": "stream",
          "text": [
            "5\n",
            "10\n"
          ],
          "name": "stdout"
        }
      ]
    },
    {
      "cell_type": "markdown",
      "metadata": {
        "id": "dU_c2FEZ479o",
        "colab_type": "text"
      },
      "source": [
        "### Comments\n",
        "\n",
        "Comments are a great way to add information to your code without actaully running. Just as in a document or book, comments serve to clarify certain parts of code, give instruction on how to use code, and identify natural progression of ideas. In Python, comments are created using a `#`. Everything on a line after a `#` becomes commented code.\n",
        "\n",
        "Try adding and removing comments on your own."
      ]
    },
    {
      "cell_type": "code",
      "metadata": {
        "id": "oPuoqj--47WN",
        "colab_type": "code",
        "outputId": "bcd9a6cc-cb8c-4656-ad51-27259e262688",
        "colab": {
          "base_uri": "https://localhost:8080/",
          "height": 51
        }
      },
      "source": [
        "# This is a comment.\n",
        "\n",
        "a  = 15     # The variable will be assigned,\n",
        "b = 20      # But these comments will not run.\n",
        "\n",
        "print(a + b)\n",
        "# print(b - a)\n",
        "print(a * b)"
      ],
      "execution_count": 0,
      "outputs": [
        {
          "output_type": "stream",
          "text": [
            "35\n",
            "300\n"
          ],
          "name": "stdout"
        }
      ]
    }
  ]
}