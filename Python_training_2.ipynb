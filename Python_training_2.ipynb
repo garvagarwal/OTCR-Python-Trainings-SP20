{
  "nbformat": 4,
  "nbformat_minor": 0,
  "metadata": {
    "colab": {
      "name": "Python_training 2.ipynb",
      "provenance": [],
      "collapsed_sections": []
    },
    "kernelspec": {
      "name": "python3",
      "display_name": "Python 3"
    }
  },
  "cells": [
    {
      "cell_type": "markdown",
      "metadata": {
        "id": "51NqjVAulV7G",
        "colab_type": "text"
      },
      "source": [
        "# Welcome to Python Training 2"
      ]
    },
    {
      "cell_type": "markdown",
      "metadata": {
        "id": "bD8Z7gZplkL5",
        "colab_type": "text"
      },
      "source": [
        "The goal of this training is to familiarize you with control structures, functions and data structures."
      ]
    },
    {
      "cell_type": "markdown",
      "metadata": {
        "id": "h3oaVAXE8hlq",
        "colab_type": "text"
      },
      "source": [
        "# Common Data Structures"
      ]
    },
    {
      "cell_type": "markdown",
      "metadata": {
        "id": "yMGWsv8O8kGy",
        "colab_type": "text"
      },
      "source": [
        "## Lists"
      ]
    },
    {
      "cell_type": "markdown",
      "metadata": {
        "id": "TwrZx4Ul-gCb",
        "colab_type": "text"
      },
      "source": [
        "List can be seen as a collection: they can hold many variables. List resemble physical lists, they can contain a number of items.\n",
        "\n",
        "A list can have any number of elements. They are similar to arrays in other programming languages. Lists can hold all kinds of variables: integers (whole numbers), floats, characters, texts and many more. "
      ]
    },
    {
      "cell_type": "markdown",
      "metadata": {
        "id": "129DDu1d-iT2",
        "colab_type": "text"
      },
      "source": [
        "### Example"
      ]
    },
    {
      "cell_type": "markdown",
      "metadata": {
        "id": "IiDil18p-kK0",
        "colab_type": "text"
      },
      "source": [
        "**Empty list**\n",
        "\n",
        "Lets create an empty list. To define an empty list you should use brackets.\n",
        "Brackets is what tells Python that the object is a list."
      ]
    },
    {
      "cell_type": "code",
      "metadata": {
        "id": "3pwma2qP-njE",
        "colab_type": "code",
        "colab": {}
      },
      "source": [
        "list = []"
      ],
      "execution_count": 0,
      "outputs": []
    },
    {
      "cell_type": "markdown",
      "metadata": {
        "id": "nDJxrbAH-oxg",
        "colab_type": "text"
      },
      "source": [
        "Lists can hold both numbers and text. Regardless of contents, they are accessed in the same fashion.\n",
        "\n",
        "To access a list add the id between the brackets, such as list[0], list[1] and so on. "
      ]
    },
    {
      "cell_type": "markdown",
      "metadata": {
        "id": "YbCs8_hx-qMT",
        "colab_type": "text"
      },
      "source": [
        "**Define list**\n",
        "\n",
        "An empty list was defined above. Lists can contain all kinds of data.\n",
        "You can create numeric lists like this:"
      ]
    },
    {
      "cell_type": "code",
      "metadata": {
        "id": "1gB57KFv-s6I",
        "colab_type": "code",
        "colab": {}
      },
      "source": [
        "ratings = [ 3,4,6,3,4,6,5 ]"
      ],
      "execution_count": 0,
      "outputs": []
    },
    {
      "cell_type": "markdown",
      "metadata": {
        "id": "qDNo7nM7-vgQ",
        "colab_type": "text"
      },
      "source": [
        "Lists can contain strings or characters:"
      ]
    },
    {
      "cell_type": "code",
      "metadata": {
        "id": "Y3mqCNj7-1rI",
        "colab_type": "code",
        "colab": {}
      },
      "source": [
        "ratings = [ 'A','A','B','A','C','A' ]"
      ],
      "execution_count": 0,
      "outputs": []
    },
    {
      "cell_type": "markdown",
      "metadata": {
        "id": "-KFW5H9a-24T",
        "colab_type": "text"
      },
      "source": [
        "Strings are just lists of characters, so the above can be written as:"
      ]
    },
    {
      "cell_type": "code",
      "metadata": {
        "id": "yJ3QLFsi-6lp",
        "colab_type": "code",
        "colab": {}
      },
      "source": [
        "ratings = 'AABACA'"
      ],
      "execution_count": 0,
      "outputs": []
    },
    {
      "cell_type": "markdown",
      "metadata": {
        "id": "qN6H44qV_CgO",
        "colab_type": "text"
      },
      "source": [
        "To output simply print them:"
      ]
    },
    {
      "cell_type": "code",
      "metadata": {
        "id": "Fp7bIKWz_EjD",
        "colab_type": "code",
        "outputId": "1bb17c13-590b-4375-ad70-5873fe35fef8",
        "colab": {
          "base_uri": "https://localhost:8080/",
          "height": 35
        }
      },
      "source": [
        "print(ratings)"
      ],
      "execution_count": 0,
      "outputs": [
        {
          "output_type": "stream",
          "text": [
            "AABACA\n"
          ],
          "name": "stdout"
        }
      ]
    },
    {
      "cell_type": "markdown",
      "metadata": {
        "id": "wjx6x3Oo_K2c",
        "colab_type": "text"
      },
      "source": [
        "**Access list items**"
      ]
    },
    {
      "cell_type": "markdown",
      "metadata": {
        "id": "sYv2YyLu_Ng5",
        "colab_type": "text"
      },
      "source": [
        "You can access a list item by using brackets and its index. Python starts counting at zero, that means the first element is zero.\n",
        "\n",
        "Why count from zero?\n",
        "\n",
        "Computer languages used to count from zero. At the time when programming languages were first created, it made sense to count from zero. These days it would just be strange to change that tradition.\n",
        "\n",
        "To get the first item, simply add the brackets and a zero after the list name."
      ]
    },
    {
      "cell_type": "code",
      "metadata": {
        "id": "YWjuvRqh_OwX",
        "colab_type": "code",
        "outputId": "7fee3d18-0599-4b9f-aad7-acabe4a9c522",
        "colab": {
          "base_uri": "https://localhost:8080/",
          "height": 35
        }
      },
      "source": [
        "print(ratings[0])"
      ],
      "execution_count": 0,
      "outputs": [
        {
          "output_type": "stream",
          "text": [
            "A\n"
          ],
          "name": "stdout"
        }
      ]
    },
    {
      "cell_type": "markdown",
      "metadata": {
        "id": "QkgZWQvw_QGA",
        "colab_type": "text"
      },
      "source": [
        "Every other element can be accessed by the incremental numbers, to print the second item you’d use (1), to print the thrid item you’d use (2)."
      ]
    },
    {
      "cell_type": "code",
      "metadata": {
        "id": "rhLuhvz6_RGQ",
        "colab_type": "code",
        "outputId": "e8bc1e9f-a183-43ed-8d9c-5456331e0926",
        "colab": {
          "base_uri": "https://localhost:8080/",
          "height": 35
        }
      },
      "source": [
        "print(ratings[1])"
      ],
      "execution_count": 0,
      "outputs": [
        {
          "output_type": "stream",
          "text": [
            "A\n"
          ],
          "name": "stdout"
        }
      ]
    },
    {
      "cell_type": "markdown",
      "metadata": {
        "id": "I6LYcuY1_WMp",
        "colab_type": "text"
      },
      "source": [
        "**List Example**"
      ]
    },
    {
      "cell_type": "code",
      "metadata": {
        "id": "2Amwp0Vz_ZU7",
        "colab_type": "code",
        "colab": {}
      },
      "source": [
        "list = [ \"New York\", \"Los Angles\", \"Boston\", \"Denver\" ]\n",
        "\n",
        "print(list)     # prints all elements\n",
        "print(list[0])  # print first element\n",
        "\n",
        "list2 = [1,3,4,6,4,7,8,2,3]\n",
        "\n",
        "print(sum(list2))\n",
        "print(min(list2))\n",
        "print(max(list2))\n",
        "print(list2[0])\n",
        "print(list2[-1])"
      ],
      "execution_count": 0,
      "outputs": []
    },
    {
      "cell_type": "markdown",
      "metadata": {
        "id": "Iwg7cBcu8xEE",
        "colab_type": "text"
      },
      "source": [
        "### Operations"
      ]
    },
    {
      "cell_type": "markdown",
      "metadata": {
        "id": "mGIerswx_hra",
        "colab_type": "text"
      },
      "source": [
        "Lists can be changed with several methods. What are these methods?\n",
        "\n",
        "To add items to a list, you can use the append() method. Call the method on the list, the parameter contains the item to add. Calling append(3) would add 3 to the list. To remove an item from the end of the list, you can use the pop() method.\n",
        "\n",
        "Lists can be accessed like traditional arrays, use the block quotes and index to get an item."
      ]
    },
    {
      "cell_type": "markdown",
      "metadata": {
        "id": "jaY1PJVr_nDv",
        "colab_type": "text"
      },
      "source": [
        "### Examples\n"
      ]
    },
    {
      "cell_type": "markdown",
      "metadata": {
        "id": "VnxVAeDq_o9w",
        "colab_type": "text"
      },
      "source": [
        "Lists can be modified using their methods.\n",
        "In the example below we create a list and use methods to change the list contents.\n",
        "\n",
        "**Append and pop**\n",
        "\n",
        "Run the program below and see the output:"
      ]
    },
    {
      "cell_type": "code",
      "metadata": {
        "id": "asC8B1w3_vW4",
        "colab_type": "code",
        "colab": {}
      },
      "source": [
        "x = [3,4,5]\n",
        "x.append(6)\n",
        "print(x)\n",
        "x.append(7)\n",
        "print(x)\n",
        "x.pop()\n",
        "print(x)"
      ],
      "execution_count": 0,
      "outputs": []
    },
    {
      "cell_type": "markdown",
      "metadata": {
        "id": "ILQTuMPa_yHX",
        "colab_type": "text"
      },
      "source": [
        "**Access items**\n",
        "\n",
        "To access items, simply use the block quotes:"
      ]
    },
    {
      "cell_type": "code",
      "metadata": {
        "id": "KJQqHOMB_xbo",
        "colab_type": "code",
        "colab": {}
      },
      "source": [
        "x = [3,4,5]\n",
        "\n",
        "print(x[0])\n",
        "print(x[1])\n",
        "\n",
        "print(x[-1])"
      ],
      "execution_count": 0,
      "outputs": []
    },
    {
      "cell_type": "markdown",
      "metadata": {
        "id": "oWgZX7HN_12S",
        "colab_type": "text"
      },
      "source": [
        "### Exercise"
      ]
    },
    {
      "cell_type": "markdown",
      "metadata": {
        "id": "lKPIV9K8_4gX",
        "colab_type": "text"
      },
      "source": [
        "Given the list y add the items 12, 8 and 4 to the back of the list.\n",
        "    \n"
      ]
    },
    {
      "cell_type": "code",
      "metadata": {
        "id": "FYmSC_jAAEfA",
        "colab_type": "code",
        "colab": {}
      },
      "source": [
        "y = [6,4,2]\n",
        "\n",
        "# Write your solution here\n",
        "\n",
        "print(y)"
      ],
      "execution_count": 0,
      "outputs": []
    },
    {
      "cell_type": "markdown",
      "metadata": {
        "id": "31dcnSa8__Kw",
        "colab_type": "text"
      },
      "source": [
        "Now change the 2nd item of the list to be `3`."
      ]
    },
    {
      "cell_type": "code",
      "metadata": {
        "id": "C1yFpEauANhB",
        "colab_type": "code",
        "colab": {}
      },
      "source": [
        "# Write your solution here\n",
        "\n",
        "print(y)"
      ],
      "execution_count": 0,
      "outputs": []
    },
    {
      "cell_type": "markdown",
      "metadata": {
        "id": "2tR19C8bATqy",
        "colab_type": "text"
      },
      "source": [
        "### Slices"
      ]
    },
    {
      "cell_type": "markdown",
      "metadata": {
        "id": "ts9OlvmPAssb",
        "colab_type": "text"
      },
      "source": [
        "A slice can be taken from a string or list, just as you can take a slice from a pizza.\n",
        "If you have a variable, be it a list or a string, that you want a part of, you don’t have to define it all over again.\n",
        "\n",
        "You can get a copy of the variable, which is the whole or a subset of the original variable. This concept is known as slicing.\n",
        "\n",
        "To take the first two slices, you’d use:"
      ]
    },
    {
      "cell_type": "code",
      "metadata": {
        "id": "KO7JJzQ0Au5q",
        "colab_type": "code",
        "colab": {}
      },
      "source": [
        "slice = pizza[0:2]"
      ],
      "execution_count": 0,
      "outputs": []
    },
    {
      "cell_type": "markdown",
      "metadata": {
        "id": "doPMYb9hAwkf",
        "colab_type": "text"
      },
      "source": [
        "The variable slice will now contain a copy of pizza, but only part of it. This is expressed using the brackets, the first number is the start and the number after the colon is the end.\n",
        "\n",
        "Why does it start with zero?\n",
        "\n",
        "Python starts numbering of string and list elements from zero, not one.\n",
        "\n",
        "In this case we took a slice from the list pizza, the output is stored into a new variable.\n",
        "If you want you can pass it directly to the print function. \n",
        "\n",
        "**List slice**\n",
        "\n",
        "Create a list of persons. We’ll use the slicing technique to get the first two persons in the list."
      ]
    },
    {
      "cell_type": "code",
      "metadata": {
        "id": "a7You0iuA7G8",
        "colab_type": "code",
        "colab": {}
      },
      "source": [
        "persons = [ \"John\", \"Marissa\", \"Pete\", \"Dayton\" ]\n",
        "\n",
        "slice = persons[0:2]\n",
        "print(slice)"
      ],
      "execution_count": 0,
      "outputs": []
    },
    {
      "cell_type": "markdown",
      "metadata": {
        "id": "2TJArcueA-eQ",
        "colab_type": "text"
      },
      "source": [
        "**String slicing**\n",
        "\n",
        "A string can be sliced too. This is done in exactly the same way, but the main differnece is that it won’t return a number of items, but simply a new string."
      ]
    },
    {
      "cell_type": "code",
      "metadata": {
        "id": "XZ6tkEANBA2m",
        "colab_type": "code",
        "colab": {}
      },
      "source": [
        "destination = \"summer holiday at beach\"\n",
        "mySlice = destination[0:6]\n",
        "print(mySlice)"
      ],
      "execution_count": 0,
      "outputs": []
    },
    {
      "cell_type": "markdown",
      "metadata": {
        "id": "Jqw6Gl1nBEJQ",
        "colab_type": "text"
      },
      "source": [
        "#### Exercise"
      ]
    },
    {
      "cell_type": "markdown",
      "metadata": {
        "id": "xn-jREY_BFuk",
        "colab_type": "text"
      },
      "source": [
        "Given the text “Hello World”, take the slice “World”"
      ]
    },
    {
      "cell_type": "code",
      "metadata": {
        "id": "MUff3aTABOnA",
        "colab_type": "code",
        "colab": {}
      },
      "source": [
        "words = 'Hello World'\n",
        "\n",
        "word = #slice here\n",
        "\n",
        "print(word)"
      ],
      "execution_count": 0,
      "outputs": []
    },
    {
      "cell_type": "markdown",
      "metadata": {
        "id": "D3P1mr2VuXkx",
        "colab_type": "text"
      },
      "source": [
        "# Control structures"
      ]
    },
    {
      "cell_type": "markdown",
      "metadata": {
        "id": "omu7EwFguhvT",
        "colab_type": "text"
      },
      "source": [
        "## If Statements\n"
      ]
    },
    {
      "cell_type": "markdown",
      "metadata": {
        "id": "5ndvIM8JwUdj",
        "colab_type": "text"
      },
      "source": [
        "A program sometimes may have to make choices. These choices can execute different code depending on certain condition. In Python the if statement is used for conditional execution.\n",
        "\n",
        "The if statement may be combined with certain operator such as equality (==), greater than (>=), smaller than (<=) and not equal (!=). Conditions may be combined using the keywords or and and."
      ]
    },
    {
      "cell_type": "markdown",
      "metadata": {
        "id": "uumDj5F-waM8",
        "colab_type": "text"
      },
      "source": [
        "### Example"
      ]
    },
    {
      "cell_type": "markdown",
      "metadata": {
        "id": "jHh9Wr_fwbkl",
        "colab_type": "text"
      },
      "source": [
        "In the example below we show the use of if-statements. Run the code below to see it in action."
      ]
    },
    {
      "cell_type": "code",
      "metadata": {
        "id": "ekKgUrp5wfis",
        "colab_type": "code",
        "outputId": "31a5f789-54b0-41c2-dcc1-5168c9e9f9e0",
        "colab": {
          "base_uri": "https://localhost:8080/",
          "height": 90
        }
      },
      "source": [
        "gender = input(\"Gender? \")\n",
        "if gender == \"male\" or gender == \"Male\":\n",
        "    print(\"Your cat is male\")\n",
        "else:\n",
        "    print(\"Your cat is female\")\n",
        "\n",
        "age = int(input(\"Age of your cat? \"))\n",
        "if age < 5:\n",
        "    print(\"Your cat is young.\")\n",
        "else:\n",
        "    print(\"Your cat is an adult.\")"
      ],
      "execution_count": 0,
      "outputs": [
        {
          "output_type": "stream",
          "text": [
            "Gender? Male\n",
            "Your cat is male\n",
            "Age of your cat? 10\n",
            "Your cat is an adult.\n"
          ],
          "name": "stdout"
        }
      ]
    },
    {
      "cell_type": "markdown",
      "metadata": {
        "id": "lm8Nl8EhxNGk",
        "colab_type": "text"
      },
      "source": [
        "Here is a visual example of what is happening:\n",
        "![Flow chart](https://pythonbasics.org/wp-content/uploads/2016/02/if-statement-example-700x103.png)"
      ]
    },
    {
      "cell_type": "markdown",
      "metadata": {
        "id": "0EYYaG7hxcBz",
        "colab_type": "text"
      },
      "source": [
        "### Exercise"
      ]
    },
    {
      "cell_type": "markdown",
      "metadata": {
        "id": "MwLvNx8RxhD-",
        "colab_type": "text"
      },
      "source": [
        "Make a program that asks for a password and prints if it is right or wrong."
      ]
    },
    {
      "cell_type": "code",
      "metadata": {
        "id": "3Be1s6p6yU-6",
        "colab_type": "code",
        "colab": {}
      },
      "source": [
        "secretPass = 'abcd'\n",
        "userInput = input('Enter a password')\n",
        "\n",
        "# Write if/else statement with prints here\n"
      ],
      "execution_count": 0,
      "outputs": []
    },
    {
      "cell_type": "markdown",
      "metadata": {
        "id": "YJPh0ns-uj9y",
        "colab_type": "text"
      },
      "source": [
        "## For Loops"
      ]
    },
    {
      "cell_type": "markdown",
      "metadata": {
        "id": "cUElqtFa2SkO",
        "colab_type": "text"
      },
      "source": [
        "Programs sometimes need to repeat actions. To repeat actions we can use a for loop.\n",
        "A for loop is written inside the code. A for loop can have 1 or more instructions.\n",
        "\n",
        "A for loop will repeat a code block. Repeation is continued until the stop condition is met. If the stop condition is not met it will loop infintely.\n",
        "\n",
        "These instructions (loop) is repeated until a condition is met."
      ]
    },
    {
      "cell_type": "markdown",
      "metadata": {
        "id": "KKvtaKM42TOS",
        "colab_type": "text"
      },
      "source": [
        "### Example"
      ]
    },
    {
      "cell_type": "markdown",
      "metadata": {
        "id": "NzYCS2jM2XeH",
        "colab_type": "text"
      },
      "source": [
        "The syntax to use a loop is:\n",
        "\n",
        "```for [variable name to store into] in [list]:```\n",
        "\n",
        "Make sure to indent all the code inside the function. [variable name] is variable you are creating to hold the value of each element as you go through the list. [list] is any type of iterable data structure.\n"
      ]
    },
    {
      "cell_type": "code",
      "metadata": {
        "id": "U4WizeOV2cK9",
        "colab_type": "code",
        "outputId": "ca2f50c2-b0cc-499c-f292-4d6f18f63e11",
        "colab": {
          "base_uri": "https://localhost:8080/",
          "height": 72
        }
      },
      "source": [
        "num = [1,2,3]\n",
        "\n",
        "for x in num:\n",
        "  print(x)"
      ],
      "execution_count": 0,
      "outputs": [
        {
          "output_type": "stream",
          "text": [
            "1\n",
            "2\n",
            "3\n"
          ],
          "name": "stdout"
        }
      ]
    },
    {
      "cell_type": "markdown",
      "metadata": {
        "id": "Zo72icqe3rlL",
        "colab_type": "text"
      },
      "source": [
        "Here is a visual example:\n",
        "![Flow chart](https://pythonbasics.org/wp-content/uploads/2016/02/for-loop-700x234.png)"
      ]
    },
    {
      "cell_type": "markdown",
      "metadata": {
        "id": "P1-UyIsI2Uve",
        "colab_type": "text"
      },
      "source": [
        "### Exercises"
      ]
    },
    {
      "cell_type": "markdown",
      "metadata": {
        "id": "80jfhVYp38mK",
        "colab_type": "text"
      },
      "source": [
        "#### Exercise 1"
      ]
    },
    {
      "cell_type": "markdown",
      "metadata": {
        "id": "SfN0BmF64Iwe",
        "colab_type": "text"
      },
      "source": [
        ""
      ]
    },
    {
      "cell_type": "markdown",
      "metadata": {
        "id": "I1lS_E9H3_Mm",
        "colab_type": "text"
      },
      "source": [
        "Make a program that lists every country in `clist`:"
      ]
    },
    {
      "cell_type": "code",
      "metadata": {
        "id": "h3sBHz_Y4Dat",
        "colab_type": "code",
        "colab": {}
      },
      "source": [
        "clist = ['Canada','USA','Mexico','Australia']\n",
        "\n",
        "# Write for loop here"
      ],
      "execution_count": 0,
      "outputs": []
    },
    {
      "cell_type": "markdown",
      "metadata": {
        "id": "yYPcNvcd4Jpu",
        "colab_type": "text"
      },
      "source": [
        "#### Exercise 2"
      ]
    },
    {
      "cell_type": "markdown",
      "metadata": {
        "id": "ngkRtBNh4UV1",
        "colab_type": "text"
      },
      "source": [
        "Create a loop that sums the numbers from 100 to 200:"
      ]
    },
    {
      "cell_type": "code",
      "metadata": {
        "id": "Ce2_aSz-4Y4u",
        "colab_type": "code",
        "colab": {}
      },
      "source": [
        "numSum = 0\n",
        "\n",
        "# Hint: you can use `range(100,200)` to make a list from [100-199]\n",
        "\n",
        "# Write loop here\n",
        "\n",
        "print(numSum)"
      ],
      "execution_count": 0,
      "outputs": []
    },
    {
      "cell_type": "markdown",
      "metadata": {
        "id": "7MJuRC04vB9P",
        "colab_type": "text"
      },
      "source": [
        "## While Loops"
      ]
    },
    {
      "cell_type": "markdown",
      "metadata": {
        "id": "Sswu5-kQ5ara",
        "colab_type": "text"
      },
      "source": [
        "A while loop repeats code until the condition is met. Unlike for loops, the number of iterations in it may be unknown. A while loop always consists of a condition and a block of code.\n",
        "\n",
        "A while loop ends if and only if the condition is true, in contrast to a for loop that always has a finite countable number of steps. "
      ]
    },
    {
      "cell_type": "markdown",
      "metadata": {
        "id": "yYEQIBli5cOT",
        "colab_type": "text"
      },
      "source": [
        "### Example"
      ]
    },
    {
      "cell_type": "markdown",
      "metadata": {
        "id": "mOndVF0U5kpH",
        "colab_type": "text"
      },
      "source": [
        "The while loop below defines the condition (x < 10) and repeats the instructions until that condition is true. "
      ]
    },
    {
      "cell_type": "code",
      "metadata": {
        "id": "CB33RfjZ5lY1",
        "colab_type": "code",
        "colab": {}
      },
      "source": [
        "x = 3                              \n",
        "while x < 10:\n",
        "    print(x)\n",
        "    x = x + 1"
      ],
      "execution_count": 0,
      "outputs": []
    },
    {
      "cell_type": "markdown",
      "metadata": {
        "id": "e9WkvxWi5qU0",
        "colab_type": "text"
      },
      "source": [
        "You can also create infinite loops, this is when the condition never changes."
      ]
    },
    {
      "cell_type": "code",
      "metadata": {
        "id": "f-MxyFFL5q3o",
        "colab_type": "code",
        "colab": {}
      },
      "source": [
        "while True:\n",
        "    print('Forever')"
      ],
      "execution_count": 0,
      "outputs": []
    },
    {
      "cell_type": "markdown",
      "metadata": {
        "id": "ba4tPsl65zNb",
        "colab_type": "text"
      },
      "source": [
        "#### Control flow graph\n",
        "\n",
        "Schematically a while loop looks like the image below. This is called the control flow graph (cfg). A visual way of what happens when a while loop is entered.\n",
        "\n",
        "It should be noted that there can be multiple statements inside the while loop. If the code gets very long you can also call functions from inside the loop.\n",
        "\n",
        "![Flow chart](https://pythonbasics.org/wp-content/uploads/2018/02/while-loop.png)"
      ]
    },
    {
      "cell_type": "markdown",
      "metadata": {
        "id": "659TSbK35d42",
        "colab_type": "text"
      },
      "source": [
        "### Exercise"
      ]
    },
    {
      "cell_type": "markdown",
      "metadata": {
        "id": "6XMmiJTC5-GX",
        "colab_type": "text"
      },
      "source": [
        "Make a program that lists the countries in the set below using a while loop:"
      ]
    },
    {
      "cell_type": "code",
      "metadata": {
        "id": "yiJOzL4K6CZ7",
        "colab_type": "code",
        "colab": {}
      },
      "source": [
        "country_list = [\"Canada\",\"USA\",\"Mexico\"]\n",
        "\n",
        "# Your code goes here"
      ],
      "execution_count": 0,
      "outputs": []
    },
    {
      "cell_type": "markdown",
      "metadata": {
        "id": "XTGgmiQE7E-w",
        "colab_type": "text"
      },
      "source": [
        "#### Questions to think about:\n",
        "1. What’s the difference between a while loop and a for loop?\n",
        "2. Can you sum numbers in a while loop?\n",
        "3. Can a for loop be used inside a while loop?"
      ]
    },
    {
      "cell_type": "markdown",
      "metadata": {
        "id": "VcGJvViinGMb",
        "colab_type": "text"
      },
      "source": [
        "# Functions"
      ]
    },
    {
      "cell_type": "markdown",
      "metadata": {
        "id": "rhNZoVxisVe7",
        "colab_type": "text"
      },
      "source": [
        "To group sets of code you can use functions. Functions are small parts of repeatable code that you can \"call\" with certain parameters.\n",
        "\n",
        "Without functions we only have a long list of instructions. Functions can help you organize code. Functions can also be reused, often they are included in modules."
      ]
    },
    {
      "cell_type": "markdown",
      "metadata": {
        "id": "SAzheJfA9i1J",
        "colab_type": "text"
      },
      "source": [
        ""
      ]
    },
    {
      "cell_type": "markdown",
      "metadata": {
        "id": "mkgp61fO9kez",
        "colab_type": "text"
      },
      "source": [
        "## Scope"
      ]
    },
    {
      "cell_type": "markdown",
      "metadata": {
        "id": "dWIpixDn9l25",
        "colab_type": "text"
      },
      "source": [
        "Variables have a certain reach within a program. A global variable can be used anywhere in a program, but a local variable is known only in a certain area (function, loop)\n",
        "\n",
        "Sometimes the word scope is used in projects: “its outside the scope of the project”, meaning not included. Likewise, a variable can be outside the scope of a function.\n",
        "\n",
        "Scope has to do with where a variable can be used. If you define a variable, it’s not necessarily usable everywhere in the code. A variable defined in a function is only known in a function, unless you return it."
      ]
    },
    {
      "cell_type": "code",
      "metadata": {
        "id": "DYQjs72t9p4A",
        "colab_type": "code",
        "colab": {}
      },
      "source": [
        "def something():\n",
        "   localVar = 1\n",
        "\n",
        "# this will crash because localVar is a local variable\n",
        "print(localVar)"
      ],
      "execution_count": 0,
      "outputs": []
    },
    {
      "cell_type": "markdown",
      "metadata": {
        "id": "U4ZIa_qx9ule",
        "colab_type": "text"
      },
      "source": [
        "That means unless you return the variables from a function, they can only be used there. This is in stark constrast with global variables: global variables can be used anywhere including in multiple functions and the main code. Global variables are often defined at the top of the program.\n",
        "\n",
        "###Global and local variables\n",
        "\n",
        "In the program below, balance is a global variable. It can be used anywhere in the code. But the variable x can only be used inside addAmount."
      ]
    },
    {
      "cell_type": "code",
      "metadata": {
        "id": "Gk3UvYpK90cl",
        "colab_type": "code",
        "colab": {}
      },
      "source": [
        "balance = 0\n",
        "\n",
        "def addAmount(x):\n",
        "    global balance\n",
        "    balance = balance + x\n",
        "\n",
        "addAmount(5)\n",
        "print(balance)"
      ],
      "execution_count": 0,
      "outputs": []
    },
    {
      "cell_type": "markdown",
      "metadata": {
        "id": "egHrxptZ918o",
        "colab_type": "text"
      },
      "source": [
        "Visually that’s:\n",
        "\n",
        "![Visual](https://pythonbasics.org/wp-content/uploads/2018/02/scope.png)\n",
        "\n",
        "We have two variables: balance, a global variable that can be used anywhere. x, that can only be used inside the function (its not known outside, local scope)."
      ]
    },
    {
      "cell_type": "markdown",
      "metadata": {
        "id": "O3nokpaprpRm",
        "colab_type": "text"
      },
      "source": [
        "## Examples\n"
      ]
    },
    {
      "cell_type": "markdown",
      "metadata": {
        "id": "NH6ntzTbrueJ",
        "colab_type": "text"
      },
      "source": [
        "### Functions with no parameters\n",
        "Functions can be seen as executable code blocks. A function can be used once or more.\n",
        "\n",
        "A simple example of a function is:"
      ]
    },
    {
      "cell_type": "code",
      "metadata": {
        "id": "pVXIREg9plJO",
        "colab_type": "code",
        "outputId": "83ac3f45-b9cd-4c9d-ae37-7b858f9b0468",
        "colab": {
          "base_uri": "https://localhost:8080/",
          "height": 35
        }
      },
      "source": [
        "def currentYear():\n",
        "    print('2020')\n",
        "\n",
        "currentYear()"
      ],
      "execution_count": 0,
      "outputs": [
        {
          "output_type": "stream",
          "text": [
            "2020\n"
          ],
          "name": "stdout"
        }
      ]
    },
    {
      "cell_type": "markdown",
      "metadata": {
        "id": "9oUZTKBqr00z",
        "colab_type": "text"
      },
      "source": [
        "The function is immediately called in this example. Function definitions always start with the def keyword.\n",
        "\n",
        "Functions can be reusable, once created a function can be used in multiple programs. The print function is an example of that.\n",
        "Functions with parameters"
      ]
    },
    {
      "cell_type": "markdown",
      "metadata": {
        "id": "7xNhjbscoOGS",
        "colab_type": "text"
      },
      "source": [
        "### Functions with parameters\n",
        "In the example below we have parameter x and y. What do you think it will print when you run it?"
      ]
    },
    {
      "cell_type": "code",
      "metadata": {
        "id": "EWTg-yXKqZlP",
        "colab_type": "code",
        "colab": {}
      },
      "source": [
        "def f(x,y):\n",
        "    return x*y\n",
        "\n",
        "print( f(3,4) )"
      ],
      "execution_count": 0,
      "outputs": []
    },
    {
      "cell_type": "markdown",
      "metadata": {
        "id": "nn78Oe42qeNG",
        "colab_type": "text"
      },
      "source": [
        "In this example we have two functions: f(x,y) and print(). The function f(x,y) passed its output to the print function using the return keyword.\n",
        "\n",
        "![Diagram](https://pythonbasics.org/wp-content/uploads/2018/02/function-example.png)"
      ]
    },
    {
      "cell_type": "markdown",
      "metadata": {
        "id": "SQaSbxgGq9NS",
        "colab_type": "text"
      },
      "source": [
        "### Return variables\n",
        "Functions can return variables. Sometimes a function makes a calculation or has some output, this can be given to the program with a return varaible.\n",
        "\n",
        "In many cases that output is stored in a variable:"
      ]
    },
    {
      "cell_type": "code",
      "metadata": {
        "id": "aClhlosKrAxA",
        "colab_type": "code",
        "outputId": "cf03fb25-ea26-4ade-d47e-61ac2e8d0cbb",
        "colab": {
          "base_uri": "https://localhost:8080/",
          "height": 35
        }
      },
      "source": [
        "def f(x,y):\n",
        "    return x*y\n",
        "    \n",
        "result = f(3,4)\n",
        "print(result)"
      ],
      "execution_count": 0,
      "outputs": [
        {
          "output_type": "stream",
          "text": [
            "12\n"
          ],
          "name": "stdout"
        }
      ]
    },
    {
      "cell_type": "markdown",
      "metadata": {
        "id": "xQcSTfNRrWYO",
        "colab_type": "text"
      },
      "source": [
        "In this case the program will call the function f with parameters 3 and 4, then save the output to the variable result."
      ]
    },
    {
      "cell_type": "markdown",
      "metadata": {
        "id": "r5Omu3QbsDou",
        "colab_type": "text"
      },
      "source": [
        "## Exercises"
      ]
    },
    {
      "cell_type": "markdown",
      "metadata": {
        "id": "fH6X6XxYsZfb",
        "colab_type": "text"
      },
      "source": [
        "### Exercise 1"
      ]
    },
    {
      "cell_type": "markdown",
      "metadata": {
        "id": "7O1_1Yybse8w",
        "colab_type": "text"
      },
      "source": [
        "Make a function that sums the list mylist = [1,2,3,4,5]:"
      ]
    },
    {
      "cell_type": "code",
      "metadata": {
        "id": "q830cCqUsij2",
        "colab_type": "code",
        "colab": {}
      },
      "source": [
        "mylist = [1,2,3,4,5]\n",
        "\n",
        "# Declare your function mySum here\n",
        "\n",
        "print(mySum(mylist))"
      ],
      "execution_count": 0,
      "outputs": []
    },
    {
      "cell_type": "markdown",
      "metadata": {
        "id": "kHGeN644tQJ-",
        "colab_type": "text"
      },
      "source": [
        "### Exercise 2"
      ]
    },
    {
      "cell_type": "markdown",
      "metadata": {
        "id": "uVDwG1XPtRVo",
        "colab_type": "text"
      },
      "source": [
        "Can variables defined in a function be used in another function? (hint: scope)"
      ]
    },
    {
      "cell_type": "code",
      "metadata": {
        "id": "0JqLOwzYta7E",
        "colab_type": "code",
        "colab": {}
      },
      "source": [
        "def add(x, y):\n",
        "  # Variable added gets declared\n",
        "  added = x + y\n",
        "  return added\n",
        "\n",
        "def add2(x, y):\n",
        "  # Call the function where the `added` variable is declared and returned\n",
        "  add(x, y)\n",
        "  # What happens when you try to return a variable from another function?\n",
        "  return added\n",
        "\n",
        "add2(1, 2)"
      ],
      "execution_count": 0,
      "outputs": []
    }
  ]
}